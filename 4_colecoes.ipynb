{
  "nbformat": 4,
  "nbformat_minor": 0,
  "metadata": {
    "colab": {
      "provenance": [],
      "toc_visible": true,
      "include_colab_link": true
    },
    "kernelspec": {
      "name": "python3",
      "display_name": "Python 3"
    },
    "language_info": {
      "name": "python"
    }
  },
  "cells": [
    {
      "cell_type": "markdown",
      "metadata": {
        "id": "view-in-github",
        "colab_type": "text"
      },
      "source": [
        "<a href=\"https://colab.research.google.com/github/py222015328/CEE2/blob/main/4_colecoes.ipynb\" target=\"_parent\"><img src=\"https://colab.research.google.com/assets/colab-badge.svg\" alt=\"Open In Colab\"/></a>"
      ]
    },
    {
      "cell_type": "markdown",
      "source": [
        "# Coleções\n",
        "\n",
        "Uma coleção é uma estrutura de dados que agrupa múltiplos valores em uma única variável, permitindo armazenar, acessar e manipular conjuntos de dados de forma organizada.\n",
        "\n",
        "Dentre as coleções mais comuns estão as listas, tuplas, conjuntos e dicionários.\n",
        "\n",
        "  ## Índices:\n",
        "\n",
        "  - No caso das listas e outros tipos de vetores, os elementos são acessados por meio de índices, que começam em 0. Isso significa que o primeiro elemento está na posição 0, o segundo na posição 1, e assim por diante.\n",
        "\n",
        "  - Também é possível utilizar índices negativos, onde -1 representa o último elemento da lista, -2 o penúltimo, e assim por diante."
      ],
      "metadata": {
        "id": "ggyndaXSYDt0"
      }
    },
    {
      "cell_type": "markdown",
      "source": [
        "## Listas"
      ],
      "metadata": {
        "id": "b1gBeTabvwKd"
      }
    },
    {
      "cell_type": "markdown",
      "source": [
        "As listas são usadas quando você precisa de uma estrutura de dados ordenada (ordem inclusão) e mutável. Elas são a estrutura mais flexível, permitindo alterações em seus elementos, como adicionar, remover ou modificar valores.\n",
        "\n",
        "As **listas** (`list`) são coleções:\n",
        "\n",
        "* **ordenadas**: os elementos mantém a ordem de inclusão.\n",
        "\n",
        "* **elementos podem ser alterados**: o valor dos elementos podem ter seus valores alterados.\n",
        "\n",
        "* **permite duplicação dos elementos**: os elementos podem ter valores repetidos."
      ],
      "metadata": {
        "id": "-PYNGIrlvy25"
      }
    },
    {
      "cell_type": "markdown",
      "source": [
        "Os métodos definidos na classe `list` são:\n",
        "\n",
        "* `append()`: Adiciona um elemento no final da lista.\n",
        "* `clear()`: Remove todos os elementos da lista.\n",
        "* `copy()`: Retorna uma cópia da lista.\n",
        "* `count()`: Retorna o número de elementos com o valor especificado.\n",
        "* `extend()`: Adiciona os elementos de um conjunto de dados ao final da lista.\n",
        "* `index()`: Retorna o índice do primeiro elemento com o valor especificado.\n",
        "* `insert()`: Adiciona um elemento na posição especificada.\n",
        "* `pop()`: Remove e retorna o elemento na posição especificada. Se não especificado, então remove o ultimo elemento.\n",
        "* `remove():` Remove o primeiro elemento com o valor especificado.\n",
        "* `reverse()`: Inverte a ordem da lista.\n",
        "* `sort()`: Ordena a lista."
      ],
      "metadata": {
        "id": "dkTRT0XF12XC"
      }
    },
    {
      "cell_type": "markdown",
      "source": [
        "As listas são criadas usando `[]` ou `list()`. Veja os exemplos abaixo."
      ],
      "metadata": {
        "id": "nP3l5XZR7aoh"
      }
    },
    {
      "cell_type": "code",
      "source": [
        "v1 = [\"Fortran\", \"Python\", \"R\", \"Python\"]\n",
        "v2 = list((\"Fortran\", \"Python\", \"R\", \"Python\"))\n",
        "\n",
        "print(v1)    # Exibe a lista v1.\n",
        "print(v2)    # Exibe a lista v2.\n",
        "\n",
        "print(type(v1))    # Exibe \"<class 'list'> indicando que é lista.\n",
        "print(type(v2))    # Exibe \"<class 'list'> indicando que é lista."
      ],
      "metadata": {
        "id": "ObjKZskBv2rb",
        "colab": {
          "base_uri": "https://localhost:8080/"
        },
        "outputId": "f1483519-23e3-4297-e944-59885fb9b9be"
      },
      "execution_count": null,
      "outputs": [
        {
          "output_type": "stream",
          "name": "stdout",
          "text": [
            "['Fortran', 'Python', 'R', 'Python']\n",
            "['Fortran', 'Python', 'R', 'Python']\n",
            "<class 'list'>\n",
            "<class 'list'>\n"
          ]
        }
      ]
    },
    {
      "cell_type": "code",
      "source": [
        "v = [\"Fortran\", \"Python\", \"R\", \"Python\"]\n",
        "\n",
        "## acessando posições de um lista\n",
        "print(v[0])    # Exibe 'Fortran'\n",
        "print(v[1])    # Exibe 'Python'\n",
        "print(v[2])    # Exibe 'R'\n",
        "print(v[3])    # Exibe 'Python'\n",
        "\n",
        "## print(v[4])) # gera um erro pois essa posição não existe na lista v"
      ],
      "metadata": {
        "id": "kwbNzr1Xyvq9",
        "colab": {
          "base_uri": "https://localhost:8080/"
        },
        "outputId": "b0386e73-e557-424f-aca4-c941f5662cc9"
      },
      "execution_count": null,
      "outputs": [
        {
          "output_type": "stream",
          "name": "stdout",
          "text": [
            "Fortran\n",
            "Python\n",
            "R\n",
            "Python\n"
          ]
        }
      ]
    },
    {
      "cell_type": "code",
      "source": [
        "v = [\"Fortran\", \"Python\", \"R\", \"Python\"]\n",
        "\n",
        "## acessando posições de um lista\n",
        "print(v[-1])    # Exibe 'Python'\n",
        "print(v[-2])    # Exibe 'R'\n",
        "print(v[-3])    # Exibe 'Python'\n",
        "print(v[-4])    # Exibe 'Fortran'\n",
        "\n",
        "## print(v[-5])) # gera um erro pois essa posição não existe na lista"
      ],
      "metadata": {
        "id": "7EavSk1TzCiz",
        "colab": {
          "base_uri": "https://localhost:8080/"
        },
        "outputId": "e656bb39-dba5-432f-a1e3-e985c691c39f"
      },
      "execution_count": null,
      "outputs": [
        {
          "output_type": "stream",
          "name": "stdout",
          "text": [
            "Python\n",
            "R\n",
            "Python\n",
            "Fortran\n"
          ]
        }
      ]
    },
    {
      "cell_type": "code",
      "source": [
        "v = [\"Fortran\", \"Python\", \"R\", \"Python\"]\n",
        "\n",
        "print(v)     # exibe a lista original\n",
        "\n",
        "v[1] = \"C++\" # altera o segundo elemento da lista\n",
        "\n",
        "print(v)     # exibe a lista alterada"
      ],
      "metadata": {
        "id": "dGWIpR8W0aoK",
        "colab": {
          "base_uri": "https://localhost:8080/"
        },
        "outputId": "b250330e-b471-4acf-af3f-4f3e42d54868"
      },
      "execution_count": null,
      "outputs": [
        {
          "output_type": "stream",
          "name": "stdout",
          "text": [
            "['Fortran', 'Python', 'R', 'Python']\n",
            "['Fortran', 'C++', 'R', 'Python']\n"
          ]
        }
      ]
    },
    {
      "cell_type": "code",
      "source": [
        "v1 = [\"Cobol\", \"Fortran\", \"Python\"]\n",
        "v2 = [\"A\", \"B\", \"C\", \"D\"]\n",
        "\n",
        "v1.append(\"R\")               # v1 = ['Cobol', 'Fortran', 'Python', 'R']\n",
        "v2.clear()                   # v2 = []\n",
        "v3 = v1.copy()               # v3 = ['Cobol', 'Fortran', 'Python', 'R']\n",
        "\n",
        "print( v1.count(\"R\") )       # => 1  ('R' aparece 1 vez)\n",
        "print(\"------\")\n",
        "\n",
        "v1.extend([\"Java\", \"C\"])     # v1 = ['Cobol', 'Fortran', 'Python', 'R', 'Java', 'C']\n",
        "print(v1.index(\"Python\"))    # => 2 ('Python' está na posição 2)\n",
        "print(\"------\")\n",
        "\n",
        "v1.insert(1, \"C#\")           # v1 = ['Cobol', 'C#', 'Fortran', 'Python', 'R', 'Java', 'C']\n",
        "print(v1.pop(1))             # v1 = ['Cobol', 'Fortran', 'Python', 'R', 'Java', 'C'] => 'C#'\n",
        "print(\"------\")\n",
        "\n",
        "v1.remove(\"Fortran\")         # v1 = ['Cobol', 'Python', 'R', 'Java', 'C']\n",
        "v1.reverse()                 # v1 = ['C', 'Java', 'R', 'Python', 'Cobol']\n",
        "v1.sort()                    # v1 = ['C', 'Cobol', 'Java', 'Python', 'R']\n",
        "\n",
        "print(\"v1 = \", v1)           # Exibe v1 = ['C', 'Cobol', 'Java', 'Python', 'R']\n",
        "print(\"v2 = \", v2)           # Exibe v2 = []\n",
        "print(\"v3 = \", v3)           # Exibe v3 = ['Cobol', 'Fortran', 'Python', 'R']"
      ],
      "metadata": {
        "id": "Ldw9kp5312XC",
        "colab": {
          "base_uri": "https://localhost:8080/"
        },
        "outputId": "93106229-2586-4798-e0a6-5c68b8356097"
      },
      "execution_count": null,
      "outputs": [
        {
          "output_type": "stream",
          "name": "stdout",
          "text": [
            "1\n",
            "------\n",
            "2\n",
            "------\n",
            "C#\n",
            "------\n",
            "v1 =  ['C', 'Cobol', 'Java', 'Python', 'R']\n",
            "v2 =  []\n",
            "v3 =  ['Cobol', 'Fortran', 'Python', 'R']\n"
          ]
        }
      ]
    },
    {
      "cell_type": "markdown",
      "source": [
        "**Pilhas utilizando `list`**\n",
        "\n",
        "Os métodos de lista tornam fácil usar uma lista como uma **pilha**, onde o último elemento adicionado é o primeiro elemento recuperado (“último a entrar, primeiro a sair”). Para adicionar um item ao topo da pilha, use `append()`. Para recuperar um item do topo da pilha, use `pop()` sem um índice explícito. Por exemplo:"
      ],
      "metadata": {
        "id": "R8GIWJI193Ig"
      }
    },
    {
      "cell_type": "code",
      "source": [
        "pilha = []            ## inicializa uma lista vazia\n",
        "pilha.append(3)       ## atualiza para [3]\n",
        "pilha.append(4)       ## atualiza para [3, 4]\n",
        "pilha.append(5)       ## atualiza para [3, 4, 5]\n",
        "pilha.append(6)       ## atualiza para [3, 4, 5, 6]\n",
        "pilha.append(7)       ## atualiza para [3, 4, 5, 6, 7]\n",
        "print( pilha )        ## printa [3, 4, 5, 6, 7]\n",
        "\n",
        "pilha.pop()           ## remove o 7\n",
        "pilha.pop()           ## remove o 6\n",
        "print( pilha )        ## printa [3, 4, 5]\n",
        "\n",
        "pilha.pop()           ## remove o 5\n",
        "pilha.pop()           ## remove o 4\n",
        "pilha.pop()           ## remove o 3\n",
        "print( pilha )        ## printa []\n"
      ],
      "metadata": {
        "id": "0zK0ddpz-W1N",
        "colab": {
          "base_uri": "https://localhost:8080/"
        },
        "outputId": "cd2a61c4-8b5b-4cb8-ecaf-5653b12a02b5"
      },
      "execution_count": null,
      "outputs": [
        {
          "output_type": "stream",
          "name": "stdout",
          "text": [
            "[3, 4, 5, 6, 7]\n",
            "[3, 4, 5]\n",
            "[]\n"
          ]
        }
      ]
    },
    {
      "cell_type": "markdown",
      "source": [
        "### Exercício 1: Modificando uma lista\n",
        "\n",
        "Dada a lista `frutas = [\"maçã\", \"banana\", \"laranja\", \"uva\"]`, faça o seguinte:\n",
        "\n",
        "* Substitua a fruta \"banana\" por \"abacaxi\".\n",
        "* Adicione a fruta \"morango\" ao final da lista.\n",
        "* Exiba a lista resultante.\n",
        "* Coloque a lista em ordem alfabética.\n",
        "* Substitua a fruta \"maçã\" por \"pera\".\n",
        "* Exiba a lista e verifique se ainda esta ordenada. Caso não esteja, então ordene e exiba novamente.\n",
        "\n",
        "\n"
      ],
      "metadata": {
        "id": "u1BW2jla3Wuh"
      }
    },
    {
      "cell_type": "code",
      "source": [
        "frutas=[\"maça\", \"banana\", \"laranja\", \"uva\"]\n",
        "print(frutas)\n",
        "frutas[1] = \"abacaxi\"\n",
        "print(frutas)\n",
        "frutas.append(\"morango\")\n",
        "print(frutas)\n",
        "frutas.sort()\n",
        "print(frutas)\n",
        "frutas[2] = \"pera\"\n",
        "print(frutas) # Não está ordenada ainda\n",
        "frutas.sort()\n",
        "print(frutas)"
      ],
      "metadata": {
        "colab": {
          "base_uri": "https://localhost:8080/"
        },
        "id": "c19Rs34Pd_kR",
        "outputId": "cb5251b3-327e-416e-9803-1335282e7043"
      },
      "execution_count": 1,
      "outputs": [
        {
          "output_type": "stream",
          "name": "stdout",
          "text": [
            "['maça', 'banana', 'laranja', 'uva']\n",
            "['maça', 'abacaxi', 'laranja', 'uva']\n",
            "['maça', 'abacaxi', 'laranja', 'uva', 'morango']\n",
            "['abacaxi', 'laranja', 'maça', 'morango', 'uva']\n",
            "['abacaxi', 'laranja', 'pera', 'morango', 'uva']\n",
            "['abacaxi', 'laranja', 'morango', 'pera', 'uva']\n"
          ]
        }
      ]
    },
    {
      "cell_type": "markdown",
      "source": [
        "## Tuplas"
      ],
      "metadata": {
        "id": "HWqa_8owwjba"
      }
    },
    {
      "cell_type": "markdown",
      "source": [
        "**Tuplas** (`tuple`) são similares às listas, mas com a diferença de serem imutáveis, ou seja, seus valores não podem ser alterados após a criação. Temos então as seguintes propriedades para a classe `tuble`:\n",
        "\n",
        "* **ordenadas**: os elementos mantém a ordem de inclusão.\n",
        "\n",
        "* **elementos não podem ser alterados**: o valor dos elementos não podem ter seus valores alterados.\n",
        "\n",
        "* **permite duplicação dos elementos**: os elementos podem ter valores repetidos.\n",
        "\n"
      ],
      "metadata": {
        "id": "aFaI2sXAw4Fu"
      }
    },
    {
      "cell_type": "markdown",
      "source": [
        "Os métodos definidos na classe **tupla** são:\n",
        "\n",
        "* `count()`: Retorna o número de elementos com o valor especificado.\n",
        "* `index()`: Retorna o índice do primeiro elemento com o valor especificado.\n"
      ],
      "metadata": {
        "id": "qtwICsiCrgUe"
      }
    },
    {
      "cell_type": "markdown",
      "source": [
        "As **tuplas** são criadas usando apenas virgulas ou `()` ou `tuple()`:"
      ],
      "metadata": {
        "id": "CRxr89p5r1AY"
      }
    },
    {
      "cell_type": "code",
      "source": [
        "v0 = \"Fortran\", \"Python\", \"R\", \"Python\"\n",
        "v1 = (\"Fortran\", \"Python\", \"R\", \"Python\")\n",
        "v2 = tuple((\"Fortran\", \"Python\", \"R\", \"Python\"))\n",
        "\n",
        "print(v0)    # Exibe a tupla v0.\n",
        "print(v1)    # Exibe a tupla v1.\n",
        "print(v2)    # Exibe a tupla v2.\n",
        "\n",
        "print(type(v0))    # Exibe \"<class 'tuple'> indicando que é tupla.\n",
        "print(type(v1))    # Exibe \"<class 'tuple'> indicando que é tupla.\n",
        "print(type(v2))    # Exibe \"<class 'tuple'> indicando que é tupla."
      ],
      "metadata": {
        "id": "xNUzGHMuwwGG",
        "colab": {
          "base_uri": "https://localhost:8080/"
        },
        "outputId": "fd20138a-9478-434e-a02f-99a9ac3bb4aa"
      },
      "execution_count": null,
      "outputs": [
        {
          "output_type": "stream",
          "name": "stdout",
          "text": [
            "('Fortran', 'Python', 'R', 'Python')\n",
            "('Fortran', 'Python', 'R', 'Python')\n",
            "('Fortran', 'Python', 'R', 'Python')\n",
            "<class 'tuple'>\n",
            "<class 'tuple'>\n",
            "<class 'tuple'>\n"
          ]
        }
      ]
    },
    {
      "cell_type": "markdown",
      "source": [
        "Os elementos de uma **tupla** podem ser *desempacotados* em um conjunto de variáveis:"
      ],
      "metadata": {
        "id": "e4rKizuhr1AZ"
      }
    },
    {
      "cell_type": "code",
      "source": [
        "frutas = (\"maçã\", \"banana\", \"cereja\")\n",
        "(verde, amarelo, vermelho) = frutas\n",
        "\n",
        "print(verde)       # Exibe 'maçã'\n",
        "print(amarelo)     # Exibe 'banana'\n",
        "print(vermelho)    # Exibe 'cereja'"
      ],
      "metadata": {
        "id": "WnGN4BWpr1AZ",
        "colab": {
          "base_uri": "https://localhost:8080/"
        },
        "outputId": "4d84c222-c55e-43ad-991d-47adfbbefa75"
      },
      "execution_count": null,
      "outputs": [
        {
          "output_type": "stream",
          "name": "stdout",
          "text": [
            "maçã\n",
            "banana\n",
            "cereja\n"
          ]
        }
      ]
    },
    {
      "cell_type": "markdown",
      "source": [
        "Se existem múltiplos elementos, os elementos finais da **tupla** podem ser atribuídos à uma lista:"
      ],
      "metadata": {
        "id": "OInib-XEr1AZ"
      }
    },
    {
      "cell_type": "code",
      "source": [
        "frutas = (\"maçã\", \"banana\", \"cereja\", \"morango\", \"framboesa\")\n",
        "(verde, amarelo, *vermelho) = frutas\n",
        "\n",
        "print(verde)\n",
        "print(amarelo)\n",
        "print(vermelho)"
      ],
      "metadata": {
        "id": "arqd7rfvr1AZ",
        "colab": {
          "base_uri": "https://localhost:8080/"
        },
        "outputId": "f9c919e9-96e6-4126-a1fc-69916d050cc9"
      },
      "execution_count": null,
      "outputs": [
        {
          "output_type": "stream",
          "name": "stdout",
          "text": [
            "maçã\n",
            "banana\n",
            "['cereja', 'morango', 'framboesa']\n"
          ]
        }
      ]
    },
    {
      "cell_type": "code",
      "source": [
        "v = (\"Cobol\", \"Fortran\", \"Python\", \"Python\", \"Python\")\n",
        "\n",
        "print(v[0])    # Exibe 'Cobol'\n",
        "print(v[1])    # Exibe 'Fortran\n",
        "print(v[-1])   # Exibe 'Python'\n",
        "print(v[1:4])  # Exibe ('Fortran', 'Python', 'Python')\n",
        "\n",
        "print(v.count(\"Python\"))    # Exibe 3 ('Python' ocorre 3 vezes)\n",
        "print(v.index(\"Python\"))    # Exibe 2 (a primeira ocorrência de 'Python' está na posição 2)"
      ],
      "metadata": {
        "id": "iAtfmMhFr1AZ",
        "colab": {
          "base_uri": "https://localhost:8080/"
        },
        "outputId": "6ba7c3cb-798c-4310-afa9-1944a5de8586"
      },
      "execution_count": null,
      "outputs": [
        {
          "output_type": "stream",
          "name": "stdout",
          "text": [
            "Cobol\n",
            "Fortran\n",
            "Python\n",
            "('Fortran', 'Python', 'Python')\n",
            "3\n",
            "2\n"
          ]
        }
      ]
    },
    {
      "cell_type": "markdown",
      "source": [
        "### Exercício 2: Trabalhando com tupla\n",
        "\n",
        "Dada a tupla `dados = (\"Maria\", 28, \"Engenheira\", \"São Paulo\")`:\n",
        "- Exiba o índice onde está o valor \"Engenheira\" na tupla.\n",
        "- Faça o desempacotamento da tupla nas variáveis: nome, idade, profissao e cidade.\n",
        "- Utilize f-string para formar e apresentar a seguinte frase: \"Maria tem 28 anos, é Engenheira e mora em São Paulo.\"\n",
        "\n"
      ],
      "metadata": {
        "id": "--N32RVhwQZ5"
      }
    },
    {
      "cell_type": "code",
      "source": [
        "dados=(\"Maria\", 28, \"Engenheira\", \"São Paulo\")\n",
        "indice = dados.index(\"Engenheira\")\n",
        "print(f'O índice de {dados[2]} é {indice}.')\n",
        "(nome, idade, profissao, cidade) = dados # Desempacotamento da tupla 'dados'\n",
        "print(f\"{nome} tem {idade} anos, é {profissao} e mora em {cidade}.\")"
      ],
      "metadata": {
        "colab": {
          "base_uri": "https://localhost:8080/"
        },
        "id": "qQsBQsrnffDZ",
        "outputId": "7f4a4aac-c64e-4f6d-d0fd-e3227f40f1f5"
      },
      "execution_count": 5,
      "outputs": [
        {
          "output_type": "stream",
          "name": "stdout",
          "text": [
            "O índice de Engenheira é 2.\n",
            "Maria tem 28 anos, é Engenheira e mora em São Paulo.\n"
          ]
        }
      ]
    },
    {
      "cell_type": "markdown",
      "source": [
        "## Conjuntos"
      ],
      "metadata": {
        "id": "3Cc1ByHexKaG"
      }
    },
    {
      "cell_type": "markdown",
      "source": [
        "Os **conjuntos** (`set`) são coleções desordenadas de itens únicos, o que significa que eles não mantêm uma ordem específica e não permitem elementos duplicados. Temos então as seguintes propriedades para a classe `set`:\n",
        "\n",
        "* **não ordenadas**: os elementos mantém uma ordem aleatória.\n",
        "\n",
        "* **elementos não podem ser alterados**: o valor dos elementos não podem ter seus valores alterados, embora possam ser incluídos ou excluídos do conjunto.\n",
        "\n",
        "* **não permite duplicação dos elementos**: os elementos não podem ter valores repetidos; são incluídos uma única vez."
      ],
      "metadata": {
        "id": "Zec9oUtaxRNt"
      }
    },
    {
      "cell_type": "markdown",
      "source": [
        "Os principais métodos definidos na classe `set` são:\n",
        "\n",
        "* `add()`: adiciona um elemento ao conjunto.\n",
        "* `clear()`: remove todos os elementos do conjunto.\n",
        "* `copy()`: retorna uma cópia do conjunto.\n",
        "* `difference()`: retorna um conjunto contendo a diferença entre dois ou mais conjuntos.\n",
        "* `discard()`: Remove um item especificado.\n",
        "* `intersection()`: retorna um conjunto com aintersecção entre dois conjuntos.\n",
        "* `isdisjoint()`: verifica se os conjuntos são disjuntos.\n",
        "* `issubset()`: verifica se o conjunto está contido em outro conjunto.\n",
        "* `issuperset()`: verifica se o conjunto contém outro conjunto.\n",
        "* `remove()`: remove o elemento especificado.\n",
        "* `union()`: Retorna um conjunto com a união entre conjuntos.\n",
        "* `update()`: Atualiza o conjunto acrescentando outros conjuntos."
      ],
      "metadata": {
        "id": "VN_-Ld7zxBAC"
      }
    },
    {
      "cell_type": "markdown",
      "source": [
        "Os **conjuntos** são criados usando `{}` ou `set()`:"
      ],
      "metadata": {
        "id": "0qSLcJ8bwaks"
      }
    },
    {
      "cell_type": "code",
      "source": [
        "v1 = {\"Fortran\", \"Python\", \"R\", \"Python\"}\n",
        "v2 = set((\"Fortran\", \"Python\", \"R\", \"Python\"))\n",
        "\n",
        "print(v1)    # Exibe o conjunto v1.\n",
        "print(v2)    # Exibe o conjunto v2.\n",
        "\n",
        "print(type(v1))    # Exibe \"<class 'set'> indicando que é conjunto.\n",
        "print(type(v2))    # Exibe \"<class 'set'> indicando que é conjunto."
      ],
      "metadata": {
        "id": "HBWinuxuxIqP",
        "colab": {
          "base_uri": "https://localhost:8080/"
        },
        "outputId": "6968b8d8-40f0-4d46-f47f-d758cd224dac"
      },
      "execution_count": null,
      "outputs": [
        {
          "output_type": "stream",
          "name": "stdout",
          "text": [
            "{'Python', 'R', 'Fortran'}\n",
            "{'Python', 'R', 'Fortran'}\n",
            "<class 'set'>\n",
            "<class 'set'>\n"
          ]
        }
      ]
    },
    {
      "cell_type": "markdown",
      "source": [
        "Elementos repetidos em um conjunto são ignorados:"
      ],
      "metadata": {
        "id": "Hrqa9hJZw0Xk"
      }
    },
    {
      "cell_type": "code",
      "source": [
        "v = {1, 2, 3, 3, 4, 5}\n",
        "print(v)"
      ],
      "metadata": {
        "id": "ECymgIMRw35q",
        "colab": {
          "base_uri": "https://localhost:8080/"
        },
        "outputId": "826604d1-71c9-4ab4-a4e9-41d10b3c19cc"
      },
      "execution_count": null,
      "outputs": [
        {
          "output_type": "stream",
          "name": "stdout",
          "text": [
            "{1, 2, 3, 4, 5}\n"
          ]
        }
      ]
    },
    {
      "cell_type": "code",
      "source": [
        "s1 = {\"A\", \"B\", \"C\", \"D\", \"E\"}\n",
        "s2 = {\"A\", \"B\", \"C\"}\n",
        "s3 = {\"X\", \"Y\", \"Z\"}\n",
        "\n",
        "s3.add(\"W\")                           # s3 = {'X', 'W', 'Y', 'Z'}\n",
        "print(\"s3: \", s3)                     # exibe: s3:  {'W', 'X', 'Y', 'Z'}\n",
        "s3.clear()                            # s3 = {}\n",
        "print(\"s3: \", s3)                     # exibe: s3:  set()\n",
        "\n",
        "s3 = s2.copy()                        # s3 = {'A', 'B', 'C'}\n",
        "print(\"s3: \", s3)                     # exibe: s3:  {'A', 'B', 'C'}\n",
        "\n",
        "s3 = s1.difference(s2)                # s3 = {'D', 'E'}\n",
        "print(\"s3: \", s3)                     # exibe: s3:  {'D', 'E'}\n",
        "\n",
        "s3.discard(\"D\")                       # s3 = {'E'}\n",
        "print(\"s3: \", s3)                     # exibe: s3:  {'E'}\n",
        "\n",
        "print(\"s2 inter s1 :\", s2.intersection(s1))  # exibe:  {\"A\", \"B\", \"C\"}"
      ],
      "metadata": {
        "id": "5ViHQpgcydy2",
        "colab": {
          "base_uri": "https://localhost:8080/"
        },
        "outputId": "5c2ee16c-1649-4147-f26f-4df9d737a063"
      },
      "execution_count": null,
      "outputs": [
        {
          "output_type": "stream",
          "name": "stdout",
          "text": [
            "s3:  {'W', 'Y', 'X', 'Z'}\n",
            "s3:  set()\n",
            "s3:  {'B', 'C', 'A'}\n",
            "s3:  {'E', 'D'}\n",
            "s3:  {'E'}\n",
            "s2 inter s1 : {'A', 'C', 'B'}\n"
          ]
        }
      ]
    },
    {
      "cell_type": "code",
      "source": [
        "s1 = {\"A\", \"B\", \"C\", \"D\", \"E\"}\n",
        "s2 = {\"A\", \"B\", \"C\"}\n",
        "\n",
        "print(s1.isdisjoint(s2))              # s1 disjunto s2? => False\n",
        "\n",
        "print(s1.issubset(s2))                # s1 contido s2? => False\n",
        "\n",
        "print(s2.issubset(s1))                # s2 contido s1? => True\n",
        "\n",
        "print(s1.issuperset(s2))              # s2 contido s1? => True\n",
        "\n",
        "s1.remove(\"C\")                        # s1 = {\"A\", \"B\", \"D\", \"E\"}\n",
        "print(\"s1: \", s1)                     # exibe: s1:  {'A', 'B', 'D', 'E'}\n",
        "\n",
        "s1.update(s2)                         # s1 = {'A', 'B', 'C', 'D', 'E'}\n",
        "print(\"s1 uniao s2:\", s1.union(s2))   # exibe: s1 uniao s2: {'A', 'B', 'C', 'D', 'E'}\n",
        "\n",
        "print(\"s1 = \", s1)    # Exibe o conjunto s1.\n",
        "print(\"s2 = \", s2)    # Exibe o conjunto s2."
      ],
      "metadata": {
        "id": "crscGfzva8vd",
        "colab": {
          "base_uri": "https://localhost:8080/"
        },
        "outputId": "2846ad01-5656-47a2-91ab-9f8137171e79"
      },
      "execution_count": null,
      "outputs": [
        {
          "output_type": "stream",
          "name": "stdout",
          "text": [
            "False\n",
            "False\n",
            "True\n",
            "True\n",
            "s1:  {'E', 'A', 'D', 'B'}\n",
            "s1 uniao s2: {'E', 'A', 'C', 'D', 'B'}\n",
            "s1 =  {'E', 'A', 'C', 'D', 'B'}\n",
            "s2 =  {'B', 'C', 'A'}\n"
          ]
        }
      ]
    },
    {
      "cell_type": "markdown",
      "source": [
        "### Exercício 3: Operações com `set`.\n",
        "\n",
        "Crie um set chamado `frutas` contendo as frutas `\"maçã\", \"banana\", \"laranja\"` e `\"uva\"` e então:\n",
        "* exiba o conteúdo;\n",
        "* adicione a fruta \"abacaxi\" e exiba o resultado;\n",
        "* remova o elemento \"banana\" e exiba o resultado;\n",
        "* faça a união do set `frutas` com o set `vermelhas = {\"morango\", \"cereja\", \"amora\"}`, guarde em `frutas` e exiba o resultado;\n",
        "* exiba a interseção do conjunto `frutas` com o conjunto `frutas2 = {\"banana\", \"pera\", \"morango\"}`."
      ],
      "metadata": {
        "id": "POy_ymRgzlR3"
      }
    },
    {
      "cell_type": "code",
      "source": [
        "frutas = {\"maça\", \"banana\", \"laranja\", \"uva\"}\n",
        "print(frutas)\n",
        "frutas.add(\"abacaxi\")\n",
        "print(frutas)\n",
        "frutas.discard(\"banana\")\n",
        "print(frutas)\n",
        "vermelhas = {\"morango\", \"cereja\", \"amora\"}\n",
        "frutas= frutas.union(vermelhas)\n",
        "print(frutas)\n",
        "frutas2 = {\"banana\", \"pera\", \"morango\"}\n",
        "print(frutas.intersection(frutas2))  # Exibindo a interseção"
      ],
      "metadata": {
        "colab": {
          "base_uri": "https://localhost:8080/"
        },
        "id": "--Y0rQKxkQ76",
        "outputId": "13dc419e-c135-4d8a-e2fb-e77faa36e414"
      },
      "execution_count": null,
      "outputs": [
        {
          "output_type": "stream",
          "name": "stdout",
          "text": [
            "{'uva', 'banana', 'laranja', 'maça'}\n",
            "{'uva', 'banana', 'maça', 'abacaxi', 'laranja'}\n",
            "{'uva', 'maça', 'abacaxi', 'laranja'}\n",
            "{'uva', 'amora', 'morango', 'maça', 'abacaxi', 'cereja', 'laranja'}\n",
            "{'morango'}\n"
          ]
        }
      ]
    },
    {
      "cell_type": "markdown",
      "source": [
        "## Dicionário"
      ],
      "metadata": {
        "id": "A06PHVNqxeKM"
      }
    },
    {
      "cell_type": "markdown",
      "source": [
        "Os **dicionários** (*dict*) são coleções de (*chave*, *valor*) que são ordenadas e mutáveis. Não permite duplicações de suas chaves. Temos então as seguintes propriedades para a classe `dict`:\n",
        "\n",
        "* **ordenadas**: os elementos mantém a ordem de inclusão (*a partir da versão 3.7 do Python*).\n",
        "\n",
        "* **elementos podem ser alterados**: o valor dos elementos podem ter seus valores alterados.\n",
        "\n",
        "* **não permite duplicação das chaves**: as chaves não podem ser repetidas."
      ],
      "metadata": {
        "id": "XbyqxTOZxh2-"
      }
    },
    {
      "cell_type": "markdown",
      "source": [
        "Os métodos definidos na classe `dict` são:\n",
        "\n",
        "* `clear()`: Remove todos os elementos do dicionário.\n",
        "* `copy()`: Retorna uma cópia do dicionário.\n",
        "* `get()`: Retorna o valor de uma chave específica.\n",
        "* `items()`: Retorna uma lista contendo uma tupla para cada par `(chave, valor)`.\n",
        "* `keys()`: Retorna uma lista contendo as chaves do dicionário.\n",
        "* `pop()`: Remove o elemento na chave especificada.\n",
        "* `popitem()`: Remove o último elemento inserido.\n",
        "* `setdefault()`: Retorna o valor da chave especificada. Se a chave não existir, então insere a chave com o valor especificado.\n",
        "* `update()`: Atualiza o dicionário com os pares `(chave, valor)` especificados.\n",
        "* `values()`: Retorna uma lista de todos os valores no dicionário"
      ],
      "metadata": {
        "id": "8KzC0BzT535a"
      }
    },
    {
      "cell_type": "markdown",
      "source": [
        "Os **dicionários** são criados usando `{}` informando pares do tipo `chave: valor`; também podem ser criados com `dict()`:"
      ],
      "metadata": {
        "id": "65TKIvwgjGp4"
      }
    },
    {
      "cell_type": "code",
      "source": [
        "v1 = {\"name\" : \"R\", \"version\" : 2.7, \"name\" : \"Python\"}\n",
        "v2 = dict(name = \"Python\", version = 2.7)\n",
        "# v2 = dict(name = \"R\", version = 2.7, name = \"Python\")  ## ERRO: chave duplicada !!\n",
        "\n",
        "print(v1)    # Exibe o dicionário v1.\n",
        "print(v2)    # Exibe o dicionário v2.\n",
        "\n",
        "print(type(v1))    # Exibe \"<class 'dict'> indicando que é dicionário.\n",
        "print(type(v2))    # Exibe \"<class 'dict'> indicando que é dicionário."
      ],
      "metadata": {
        "id": "lz57mxFJxvVX",
        "colab": {
          "base_uri": "https://localhost:8080/"
        },
        "outputId": "3656e58d-4cd9-4946-eac2-b4de2fdb7229"
      },
      "execution_count": null,
      "outputs": [
        {
          "output_type": "stream",
          "name": "stdout",
          "text": [
            "{'name': 'Python', 'version': 2.7}\n",
            "{'name': 'Python', 'version': 2.7}\n",
            "<class 'dict'>\n",
            "<class 'dict'>\n"
          ]
        }
      ]
    },
    {
      "cell_type": "markdown",
      "source": [
        "O comando `dict.fromkeys()` permite criar dicionários com valores iguais para todas as chaves."
      ],
      "metadata": {
        "id": "zcMRhL01gfJW"
      }
    },
    {
      "cell_type": "code",
      "source": [
        "# Criar dicionário com chaves e valor padrão None\n",
        "chaves = [\"nome\", \"idade\", \"cidade\"]\n",
        "dicionario1 = dict.fromkeys(chaves)\n",
        "print(dicionario1)\n",
        "# Saída: {'nome': None, 'idade': None, 'cidade': None}\n",
        "\n",
        "# Criar dicionário com valor padrão personalizado\n",
        "dicionario2 = dict.fromkeys(chaves, \"desconhecido\")\n",
        "print(dicionario2)\n",
        "# Saída: {'nome': 'desconhecido', 'idade': 'desconhecido', 'cidade': 'desconhecido'}"
      ],
      "metadata": {
        "id": "0S0LKeiDg3GQ",
        "colab": {
          "base_uri": "https://localhost:8080/"
        },
        "outputId": "e2962707-90a8-41b6-bfd0-2b52968ac122"
      },
      "execution_count": null,
      "outputs": [
        {
          "output_type": "stream",
          "name": "stdout",
          "text": [
            "{'nome': None, 'idade': None, 'cidade': None}\n",
            "{'nome': 'desconhecido', 'idade': 'desconhecido', 'cidade': 'desconhecido'}\n"
          ]
        }
      ]
    },
    {
      "cell_type": "markdown",
      "source": [
        "Os valores em um dicionário são acessíveis através da chave:"
      ],
      "metadata": {
        "id": "5V9C5Rtt5mz0"
      }
    },
    {
      "cell_type": "code",
      "source": [
        "carro_1 = dict(marca = \"Ford\", modelo = \"Mustang\", ano = 1967)\n",
        "carro_2 = dict(marca = \"Toyota\", modelo = \"Corolla\", ano = 2022)\n",
        "\n",
        "print(carro_1[\"marca\"])   # Exibe 'Ford'\n",
        "print(carro_2[\"modelo\"])  # Exibe 'Corolla'"
      ],
      "metadata": {
        "id": "OM84vYxO5rpF",
        "colab": {
          "base_uri": "https://localhost:8080/"
        },
        "outputId": "6b2248f0-67f4-43e2-e547-db96ddc80fe6"
      },
      "execution_count": null,
      "outputs": [
        {
          "output_type": "stream",
          "name": "stdout",
          "text": [
            "Ford\n",
            "Corolla\n"
          ]
        }
      ]
    },
    {
      "cell_type": "code",
      "source": [
        "carro = dict(marca = \"Ford\", modelo = \"Mustang\", ano = 1967)\n",
        "\n",
        "print(carro.get(\"modelo\"))                   # => 'Mustang'\n",
        "print(carro.items())                            # => dict_items([('marca', 'Ford'), ('modelo', 'Mustang'), ('ano', 1967)])\n",
        "print(carro.keys())                             # => dict_keys(['marca', 'modelo', 'ano'])\n",
        "\n",
        "carro.pop(\"modelo\")\n",
        "print(carro)                                # {'marca': 'Ford', 'ano': 1967}"
      ],
      "metadata": {
        "id": "g2ZSugLA6rKd",
        "colab": {
          "base_uri": "https://localhost:8080/"
        },
        "outputId": "9a11ec65-fc6c-410d-d1f4-fd81c8870974"
      },
      "execution_count": null,
      "outputs": [
        {
          "output_type": "stream",
          "name": "stdout",
          "text": [
            "Mustang\n",
            "dict_items([('marca', 'Ford'), ('modelo', 'Mustang'), ('ano', 1967)])\n",
            "dict_keys(['marca', 'modelo', 'ano'])\n",
            "{'marca': 'Ford', 'ano': 1967}\n"
          ]
        }
      ]
    },
    {
      "cell_type": "code",
      "source": [
        "carro = dict(marca = \"Ford\", modelo = \"Mustang\", ano = 1967)\n",
        "\n",
        "carro.popitem()\n",
        "print(carro)                              # {'marca': 'Ford', 'modelo': 'Mustang'}\n",
        "\n",
        "carro.setdefault(\"ano\", 2020)\n",
        "carro.setdefault(\"marca\", \"Fiat\")\n",
        "print(carro)                              # {'marca': 'Ford', 'modelo': 'Mustang', 'ano': 2020}\n",
        "\n",
        "carro.update({\"modelo\": \"Bronco\"})\n",
        "carro.update({\"tipo\": \"SUV\"})\n",
        "print(carro)                              # {'marca': 'Ford', 'modelo': 'Bronco', 'ano': 2020, 'tipo': 'SUV'}\n",
        "\n",
        "print(carro.values())                     # ict_values(['Ford', 'Bronco', 2020, 'SUV'])"
      ],
      "metadata": {
        "id": "8rATdfhziCo5",
        "colab": {
          "base_uri": "https://localhost:8080/"
        },
        "outputId": "48a934cd-7cb0-40bb-8bdd-14b785a53456"
      },
      "execution_count": null,
      "outputs": [
        {
          "output_type": "stream",
          "name": "stdout",
          "text": [
            "{'marca': 'Ford', 'modelo': 'Mustang'}\n",
            "{'marca': 'Ford', 'modelo': 'Mustang', 'ano': 2020}\n",
            "{'marca': 'Ford', 'modelo': 'Bronco', 'ano': 2020, 'tipo': 'SUV'}\n",
            "dict_values(['Ford', 'Bronco', 2020, 'SUV'])\n"
          ]
        }
      ]
    },
    {
      "cell_type": "markdown",
      "source": [
        "### Comando zip()\n",
        "\n",
        "O `zip()` é uma função embutida em Python que permite agrupar elementos de duas ou mais coleções (como listas, tuplas) e formar listas, tuplas ou dicionários.\n",
        "\n",
        "Ele é útil quando você quer associar dados paralelamente, como unir uma lista de chaves com uma lista de valores para criar um dicionário, por exemplo."
      ],
      "metadata": {
        "id": "-RT7mE5ElEs8"
      }
    },
    {
      "cell_type": "code",
      "source": [
        "nomes = [\"Ana\", \"Bruno\", \"Carlos\"]\n",
        "idades = [25, 30, 22]\n",
        "\n",
        "lista = list(zip(nomes, idades))  ## lista de tuplas\n",
        "print( \"lista:\", lista)\n",
        "\n",
        "tupla = tuple(zip(nomes, idades))  ## tupla de tuplas\n",
        "print( \"tupla:\", tupla)\n",
        "\n",
        "dicionario = dict(zip(nomes, idades))\n",
        "print( dicionario )  ## dicionário"
      ],
      "metadata": {
        "id": "q9PRmK6Rlfsl",
        "colab": {
          "base_uri": "https://localhost:8080/"
        },
        "outputId": "8c385b42-e919-4af0-f3fc-560ae3ccece5"
      },
      "execution_count": null,
      "outputs": [
        {
          "output_type": "stream",
          "name": "stdout",
          "text": [
            "lista: [('Ana', 25), ('Bruno', 30), ('Carlos', 22)]\n",
            "tupla: (('Ana', 25), ('Bruno', 30), ('Carlos', 22))\n",
            "{'Ana': 25, 'Bruno': 30, 'Carlos': 22}\n"
          ]
        }
      ]
    },
    {
      "cell_type": "markdown",
      "source": [
        "### Exercício 4: Operações com dict\n",
        "\n",
        "Crie um dicionário chamado `aluno` com as chaves `\"nome\", \"idade\"` e `\"nota\"`, e os respectivos valores `\"Ana\"`, `20` e `8.5`. Então:\n",
        "\n",
        "* exiba o dicionário completo;\n",
        "* exiba apenas a nota;\n",
        "* adicione uma nova chave `curso` com o valor `matematica` e exiba o dicionário autalizado;\n",
        "* altera a `idade` para `21` e exiba o dicionário atualizado;\n",
        "* remova a chave `nota` e exiba o dicionário atualizado;\n",
        "* inclua a chave `notas` com os valores `[8.5, 9.0]`  e exiba o dicionário autalizado."
      ],
      "metadata": {
        "id": "QZTnQUdUka2B"
      }
    },
    {
      "cell_type": "code",
      "source": [
        "aluno = {\"nome\": \"Ana\", \"idade\": 20, \"nota\": 8.5}\n",
        "print(aluno)\n",
        "print(aluno[\"nota\"])\n",
        "aluno.update({\"curso\" :\"matematica\"})\n",
        "print(aluno)\n",
        "aluno[\"idade\"] = 21\n",
        "print(aluno)\n",
        "aluno.pop(\"nota\")\n",
        "print(aluno)\n",
        "aluno.update({\"notas\": [8.5,9.0]})\n",
        "print(aluno)"
      ],
      "metadata": {
        "colab": {
          "base_uri": "https://localhost:8080/"
        },
        "id": "Oq6SY9rDaLTI",
        "outputId": "e1eae74a-d7ac-4634-fe41-00a08888ab8a"
      },
      "execution_count": null,
      "outputs": [
        {
          "output_type": "stream",
          "name": "stdout",
          "text": [
            "{'nome': 'Ana', 'idade': 20, 'nota': 8.5}\n",
            "8.5\n",
            "{'nome': 'Ana', 'idade': 20, 'nota': 8.5, 'curso': 'matematica'}\n",
            "{'nome': 'Ana', 'idade': 21, 'nota': 8.5, 'curso': 'matematica'}\n",
            "{'nome': 'Ana', 'idade': 21, 'curso': 'matematica'}\n",
            "{'nome': 'Ana', 'idade': 21, 'curso': 'matematica', 'notas': [8.5, 9.0]}\n"
          ]
        }
      ]
    },
    {
      "cell_type": "markdown",
      "source": [
        "## Range"
      ],
      "metadata": {
        "id": "ZeHV1sG0x3LK"
      }
    },
    {
      "cell_type": "markdown",
      "source": [
        "Range é uma estrutura de sequência utilizada principalmente para a construção de índices ou loopings. Essas sequências são criadas utilizando a seguinte função:\n",
        "\n",
        "`range(start, stop, step)`.\n",
        "\n",
        "Veja o exemplo:"
      ],
      "metadata": {
        "id": "hdEQQTq8x7tk"
      }
    },
    {
      "cell_type": "code",
      "source": [
        "x = range(6)          # Sequência 0, 1, 2, 3, 4, 5.\n",
        "y = range(2, 6)       # Sequência 2, 3, 4, 5.\n",
        "z = range(2, 20, 3)   # Sequência 2, 5, 8, 11, 14, 17.\n",
        "\n",
        "print(x)              # Exibe:  range(0, 6)\n",
        "for i in x:\n",
        "  print(i)\n",
        "\n",
        "print(y)              # Exibe: range(2, 6)\n",
        "for i in y:\n",
        "  print(i)\n",
        "\n",
        "print(z)              # Exibe: range(2, 20, 3)\n",
        "for i in z:\n",
        "  print(i)\n",
        "\n",
        "print(type(x))    # Exibe \"<class 'range'> indicando que é sequência.\n",
        "print(type(y))    # Exibe \"<class 'range'> indicando que é sequência.\n",
        "print(type(z))    # Exibe \"<class 'range'> indicando que é sequência."
      ],
      "metadata": {
        "id": "xZ4OqBcQyAao",
        "colab": {
          "base_uri": "https://localhost:8080/"
        },
        "outputId": "10ad3351-896e-4562-c6de-7e077081d2a4"
      },
      "execution_count": null,
      "outputs": [
        {
          "output_type": "stream",
          "name": "stdout",
          "text": [
            "range(0, 6)\n",
            "0\n",
            "1\n",
            "2\n",
            "3\n",
            "4\n",
            "5\n",
            "range(2, 6)\n",
            "2\n",
            "3\n",
            "4\n",
            "5\n",
            "range(2, 20, 3)\n",
            "2\n",
            "5\n",
            "8\n",
            "11\n",
            "14\n",
            "17\n",
            "<class 'range'>\n",
            "<class 'range'>\n",
            "<class 'range'>\n"
          ]
        }
      ]
    },
    {
      "cell_type": "markdown",
      "source": [
        "### Exercício 5: utilizando range\n",
        "\n",
        "1. exiba o resultado do `range(0, 30, 2)`;\n",
        "2. exiba todos os números pares entre 50 e 70;\n",
        "3. exiba todos os números ímpares entre 50 e 70;\n",
        "4. exiba todos os números que são multiplos de 5 entre 17 e 69.\n",
        "\n"
      ],
      "metadata": {
        "id": "qC_1mqjPph-D"
      }
    },
    {
      "cell_type": "markdown",
      "source": [
        "1. exiba o resultado do `range(0, 30, 2)`;"
      ],
      "metadata": {
        "id": "ayeWZmCIda8x"
      }
    },
    {
      "cell_type": "code",
      "source": [
        "for i in range(0,30,2):\n",
        "  print(i)"
      ],
      "metadata": {
        "colab": {
          "base_uri": "https://localhost:8080/"
        },
        "id": "5yPFBVZNdLH5",
        "outputId": "8d753307-ed09-4433-bd59-0a9fb3a36a43"
      },
      "execution_count": null,
      "outputs": [
        {
          "output_type": "stream",
          "name": "stdout",
          "text": [
            "0\n",
            "2\n",
            "4\n",
            "6\n",
            "8\n",
            "10\n",
            "12\n",
            "14\n",
            "16\n",
            "18\n",
            "20\n",
            "22\n",
            "24\n",
            "26\n",
            "28\n"
          ]
        }
      ]
    },
    {
      "cell_type": "markdown",
      "source": [
        "2. exiba todos os números pares entre 50 e 70;"
      ],
      "metadata": {
        "id": "DT36amdFdd6J"
      }
    },
    {
      "cell_type": "code",
      "source": [
        "for i in range(50,70,2):\n",
        "  print(i)"
      ],
      "metadata": {
        "colab": {
          "base_uri": "https://localhost:8080/"
        },
        "id": "5pDjDIErdhnB",
        "outputId": "ba0ba26b-f2eb-4ec7-b8c0-4fb7843b81b3"
      },
      "execution_count": null,
      "outputs": [
        {
          "output_type": "stream",
          "name": "stdout",
          "text": [
            "50\n",
            "52\n",
            "54\n",
            "56\n",
            "58\n",
            "60\n",
            "62\n",
            "64\n",
            "66\n",
            "68\n"
          ]
        }
      ]
    },
    {
      "cell_type": "markdown",
      "source": [
        "3. exiba todos os números ímpares entre 50 e 70;"
      ],
      "metadata": {
        "id": "JzjkZPp3dt5R"
      }
    },
    {
      "cell_type": "code",
      "source": [
        "for i in range(50,70):\n",
        "  if i % 2==1: # Se o resto da divisão de i por 2 for igual a 1, siginifica que ele é ímpar\n",
        "    print(i)"
      ],
      "metadata": {
        "colab": {
          "base_uri": "https://localhost:8080/"
        },
        "id": "vyNVMKkzds15",
        "outputId": "969c007b-5bcc-4b0d-86ed-bc59c6124d87"
      },
      "execution_count": null,
      "outputs": [
        {
          "output_type": "stream",
          "name": "stdout",
          "text": [
            "51\n",
            "53\n",
            "55\n",
            "57\n",
            "59\n",
            "61\n",
            "63\n",
            "65\n",
            "67\n",
            "69\n"
          ]
        }
      ]
    },
    {
      "cell_type": "markdown",
      "source": [
        "4. exiba todos os números que são multiplos de 5 entre 17 e 69."
      ],
      "metadata": {
        "id": "bUXPc-yVipuK"
      }
    },
    {
      "cell_type": "code",
      "source": [
        "for i in range(17,69):\n",
        "  if i % 5 == 0: #Se o resto da divisão por 5 for igual a 0, é múltiplo de 5\n",
        "    print(i)"
      ],
      "metadata": {
        "colab": {
          "base_uri": "https://localhost:8080/"
        },
        "id": "HepEmLOPiqSS",
        "outputId": "b994286a-ec9e-4dfa-86b1-39a71fc91f35"
      },
      "execution_count": null,
      "outputs": [
        {
          "output_type": "stream",
          "name": "stdout",
          "text": [
            "20\n",
            "25\n",
            "30\n",
            "35\n",
            "40\n",
            "45\n",
            "50\n",
            "55\n",
            "60\n",
            "65\n"
          ]
        }
      ]
    }
  ]
}