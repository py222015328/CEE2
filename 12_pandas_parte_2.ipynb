{
  "nbformat": 4,
  "nbformat_minor": 0,
  "metadata": {
    "colab": {
      "provenance": [],
      "toc_visible": true,
      "include_colab_link": true
    },
    "kernelspec": {
      "name": "python3",
      "display_name": "Python 3"
    },
    "language_info": {
      "name": "python"
    }
  },
  "cells": [
    {
      "cell_type": "markdown",
      "metadata": {
        "id": "view-in-github",
        "colab_type": "text"
      },
      "source": [
        "<a href=\"https://colab.research.google.com/github/py222015328/CEE2/blob/main/12_pandas_parte_2.ipynb\" target=\"_parent\"><img src=\"https://colab.research.google.com/assets/colab-badge.svg\" alt=\"Open In Colab\"/></a>"
      ]
    },
    {
      "cell_type": "markdown",
      "source": [
        "# Pandas - Parte 2"
      ],
      "metadata": {
        "id": "8y8NrXiRRKZj"
      }
    },
    {
      "cell_type": "markdown",
      "source": [
        "## Aplicar funções em um DataFrame"
      ],
      "metadata": {
        "id": "4vk8o2bF8404"
      }
    },
    {
      "cell_type": "markdown",
      "source": [
        "`DataFrame.agg()` e `DataFrame.transform()` aplicam, respectivamente, uma função definida pelo usuário para reduzir ou propagar os resultados.\n",
        "\n",
        "* `DataFrame.agg(func, axis=0)` é utilizada para aplicar funções por eixos.\n",
        "\n",
        "* `DataFrame.transform(func, axis=0)` é utilizada para operar elemento a elemento.\n",
        "\n",
        "Veja os exemplos:"
      ],
      "metadata": {
        "id": "drKK2p5LBR4P"
      }
    },
    {
      "cell_type": "code",
      "source": [
        "import pandas as pd\n",
        "import numpy as np\n",
        "\n",
        "df = pd.DataFrame({\n",
        "    'A': [1, 2, 3, 4],\n",
        "    'B': [5, 6, np.nan, 8],\n",
        "    'C': [10, 20, 30, 40]\n",
        "})\n",
        "\n",
        "# Aplicar uma única função em todas as colunas\n",
        "result = df.agg('mean')\n",
        "print(result)\n",
        "# A    2.5\n",
        "# B    6.333333\n",
        "# C    25.0\n",
        "\n",
        "# Aplicar múltiplas funções a todas as colunas\n",
        "\n",
        "  ## Função personalizada para calcular a variação percentual\n",
        "def amplitude(series):\n",
        "    amp = float( series.max() - series.min() )\n",
        "    return amp\n",
        "\n",
        "result = df.agg(['sum', 'min', amplitude])\n",
        "print(\"\\n\", result)\n",
        "#                     A     B      C\n",
        "# sum              10.0  19.0  100.0\n",
        "# min               1.0   5.0   10.0\n",
        "# amplitude         3.0   3.0   30.0\n",
        "\n",
        "# Aplicar diferentes funções a diferentes colunas\n",
        "result = df.agg({'A': 'sum', 'B': 'mean', 'C': 'max'})\n",
        "print(\"\\n\")\n",
        "print(result)\n",
        "# A     10.0\n",
        "# B      6.333333\n",
        "# C     40.0\n"
      ],
      "metadata": {
        "id": "BV-Isf4fHV70",
        "colab": {
          "base_uri": "https://localhost:8080/"
        },
        "outputId": "7f2136c0-10cc-4526-f14f-b426053c280c"
      },
      "execution_count": null,
      "outputs": [
        {
          "output_type": "stream",
          "name": "stdout",
          "text": [
            "A     2.500000\n",
            "B     6.333333\n",
            "C    25.000000\n",
            "dtype: float64\n",
            "\n",
            "               A     B      C\n",
            "sum        10.0  19.0  100.0\n",
            "min         1.0   5.0   10.0\n",
            "amplitude   3.0   3.0   30.0\n",
            "\n",
            "\n",
            "A    10.000000\n",
            "B     6.333333\n",
            "C    40.000000\n",
            "dtype: float64\n"
          ]
        }
      ]
    },
    {
      "cell_type": "code",
      "source": [
        "import pandas as pd\n",
        "import numpy as np\n",
        "\n",
        "df = pd.DataFrame({\n",
        "    'A': [1, 2, 3, 4],\n",
        "    'B': [5, 6, np.nan, 8],\n",
        "    'C': [10, 20, 30, 40]\n",
        "})\n",
        "\n",
        "print(\"df:\\n\", df)\n",
        "\n",
        "# Exemplo: padronizar os dados subtraindo de cada elemento o mínimo da coluna e\n",
        "# dividindo pela pela amplitude de cada coluna\n",
        "result = df.transform( lambda x: (x - x.min())/(x.max() - x.min()) )\n",
        "print(\"\\nresult:\\n\", result)\n",
        "#     A     B     C\n",
        "# 0   2  10.0   20\n",
        "# 1   4  12.0   40\n",
        "# 2   6   NaN   60\n",
        "# 3   8  16.0   80\n",
        "\n",
        "# Aplicar funções diferentes a cada coluna\n",
        "result = df.transform({'A': lambda x: x + 10, 'B': lambda x: x.fillna(0), 'C': np.sqrt})\n",
        "print(\"\\nresult:\\n\", result)\n",
        "#      A    B         C\n",
        "# 0   11  5.0  3.162278\n",
        "# 1   12  6.0  4.472136\n",
        "# 2   13  0.0  5.477226\n",
        "# 3   14  8.0  6.324555\n"
      ],
      "metadata": {
        "id": "yEJ59BcnHeA7",
        "colab": {
          "base_uri": "https://localhost:8080/"
        },
        "outputId": "27ce4061-9e72-433e-c155-1ffed6dd10f8"
      },
      "execution_count": null,
      "outputs": [
        {
          "output_type": "stream",
          "name": "stdout",
          "text": [
            "df:\n",
            "    A    B   C\n",
            "0  1  5.0  10\n",
            "1  2  6.0  20\n",
            "2  3  NaN  30\n",
            "3  4  8.0  40\n",
            "\n",
            "result:\n",
            "           A         B         C\n",
            "0  0.000000  0.000000  0.000000\n",
            "1  0.333333  0.333333  0.333333\n",
            "2  0.666667       NaN  0.666667\n",
            "3  1.000000  1.000000  1.000000\n",
            "\n",
            "result:\n",
            "     A    B         C\n",
            "0  11  5.0  3.162278\n",
            "1  12  6.0  4.472136\n",
            "2  13  0.0  5.477226\n",
            "3  14  8.0  6.324555\n"
          ]
        }
      ]
    },
    {
      "cell_type": "markdown",
      "source": [
        "**Explicação**: `lambda` é uma forma de declarar um **função anônima**, geralmente utilizada em situações mais simples em que a função não será reaproveitada no futuro.\n",
        "\n",
        "* sintaxe:\n",
        "```python\n",
        "lambda argumentos: expressão\n",
        "```\n",
        "\n"
      ],
      "metadata": {
        "id": "V_2CxWRFqux7"
      }
    },
    {
      "cell_type": "markdown",
      "source": [
        "### Exercício 1\n",
        "\n",
        "Considere o seguinte `DataFrame`:\n",
        "```python\n",
        "dados = {\n",
        "    \"Região\": [\"Norte\", \"Norte\", \"Sul\", \"Sul\", \"Leste\", \"Leste\"],\n",
        "    \"Produto\": [\"Maçã\", \"Banana\", \"Maçã\", \"Banana\", \"Maçã\", \"Banana\"],\n",
        "    \"Vendas\": [120, 200, 150, 300, 250, 180],\n",
        "    \"Lucro\": [30, 50, 25, 70, 60, 40],\n",
        "    \"Desconto (%)\": [5, 10, 0, 15, 5, 10],\n",
        "}\n",
        "df = pd.DataFrame(dados)\n",
        "```\n",
        "Então:\n",
        "\n",
        "1. Use `DataFrame.agg()` para calcular, para cada coluna numérica do DataFrame:\n",
        "  * A soma;\n",
        "  * A média;\n",
        "  * O valor máximo;\n",
        "\n",
        "1. Use `DataFrame.transform()` para criar uma nova coluna chamada *Vendas Normalizadas*, que:\n",
        "  * Subtraia a média das vendas de cada valor.\n",
        "  * Divida pelo desvio padrão das vendas.\n",
        "  \n",
        "  Dica: Aplique a normalização (fórmula: $z = (x - média) / std$) diretamente sobre a coluna *Vendas*.\n"
      ],
      "metadata": {
        "id": "qf5QapCvnFsR"
      }
    },
    {
      "cell_type": "code",
      "source": [
        "dados = {\n",
        "    \"Região\": [\"Norte\", \"Norte\", \"Sul\", \"Sul\", \"Leste\", \"Leste\"],\n",
        "    \"Produto\": [\"Maçã\", \"Banana\", \"Maçã\", \"Banana\", \"Maçã\", \"Banana\"],\n",
        "    \"Vendas\": [120, 200, 150, 300, 250, 180],\n",
        "    \"Lucro\": [30, 50, 25, 70, 60, 40],\n",
        "    \"Desconto (%)\": [5, 10, 0, 15, 5, 10],\n",
        "}\n",
        "df = pd.DataFrame(dados)\n",
        "print(df, '\\n')\n",
        "\n",
        "r1 = df.agg({'Vendas': 'sum', 'Lucro': 'sum', 'Desconto (%)': 'sum'})\n",
        "print(r1,'\\n')\n",
        "\n",
        "r2 = df.agg({'Vendas': 'mean', 'Lucro': 'mean', 'Desconto (%)': 'mean'})\n",
        "print(r2,'\\n')\n",
        "\n",
        "r3 = df.agg({'Vendas': 'max', 'Lucro': 'max', 'Desconto (%)': 'max'})\n",
        "print(r3,'\\n')\n",
        "\n",
        "df['Vendas Normalizadas'] = df['Vendas']\n",
        "print(df, '\\n')\n",
        "r4 = df.transform({'Vendas Normalizadas': lambda x: (x-x.mean())/x.std()})\n",
        "df['Vendas Normalizadas'] = r4\n",
        "print(df, '\\n')"
      ],
      "metadata": {
        "colab": {
          "base_uri": "https://localhost:8080/"
        },
        "id": "YYYnha3ZM0ce",
        "outputId": "e9575af5-0a52-4307-f8f6-9cb44a0d954d"
      },
      "execution_count": 38,
      "outputs": [
        {
          "output_type": "stream",
          "name": "stdout",
          "text": [
            "  Região Produto  Vendas  Lucro  Desconto (%)\n",
            "0  Norte    Maçã     120     30             5\n",
            "1  Norte  Banana     200     50            10\n",
            "2    Sul    Maçã     150     25             0\n",
            "3    Sul  Banana     300     70            15\n",
            "4  Leste    Maçã     250     60             5\n",
            "5  Leste  Banana     180     40            10 \n",
            "\n",
            "Vendas          1200\n",
            "Lucro            275\n",
            "Desconto (%)      45\n",
            "dtype: int64 \n",
            "\n",
            "Vendas          200.000000\n",
            "Lucro            45.833333\n",
            "Desconto (%)      7.500000\n",
            "dtype: float64 \n",
            "\n",
            "Vendas          300\n",
            "Lucro            70\n",
            "Desconto (%)     15\n",
            "dtype: int64 \n",
            "\n",
            "  Região Produto  Vendas  Lucro  Desconto (%)  Vendas Normalizadas\n",
            "0  Norte    Maçã     120     30             5                  120\n",
            "1  Norte  Banana     200     50            10                  200\n",
            "2    Sul    Maçã     150     25             0                  150\n",
            "3    Sul  Banana     300     70            15                  300\n",
            "4  Leste    Maçã     250     60             5                  250\n",
            "5  Leste  Banana     180     40            10                  180 \n",
            "\n",
            "  Região Produto  Vendas  Lucro  Desconto (%)  Vendas Normalizadas\n",
            "0  Norte    Maçã     120     30             5            -1.211565\n",
            "1  Norte  Banana     200     50            10             0.000000\n",
            "2    Sul    Maçã     150     25             0            -0.757228\n",
            "3    Sul  Banana     300     70            15             1.514456\n",
            "4  Leste    Maçã     250     60             5             0.757228\n",
            "5  Leste  Banana     180     40            10            -0.302891 \n",
            "\n"
          ]
        }
      ]
    },
    {
      "cell_type": "markdown",
      "source": [
        "## Contagem de valores\n",
        "\n",
        "Pandas disponbiliza a função `count()` que pode ser aplicada para objetos do tipo `Series` e `DataFrame`. Esta função é usada para contar o número de valores **não nulos**, seja por linha ou coluna.\n",
        "\n",
        "```python\n",
        "DataFrame.count(axis=0, level=None, numeric_only=False)\n",
        "```\n",
        "1. `axis`:\n",
        "  * 0 ou 'index' (padrão): Conta os valores não nulos por coluna.\n",
        "  * 1 ou 'columns': Conta os valores não nulos por linha.\n",
        "\n",
        "1. `level` (opcional):\n",
        "  * Usado quando o DataFrame possui um índice hierárquico (MultiIndex).\n",
        "  * Especifica o nível do índice para calcular os valores.\n",
        "\n",
        "3. `numeric_only` (opcional):\n",
        "  * Se True, considera apenas colunas (ou linhas) numéricas\n",
        "\n",
        " Veja o exemplo:\n"
      ],
      "metadata": {
        "id": "hXQpZecoHpf1"
      }
    },
    {
      "cell_type": "code",
      "source": [
        "import pandas as pd\n",
        "import numpy as np\n",
        "\n",
        "# Criando um DataFrame de exemplo\n",
        "df = pd.DataFrame({\n",
        "    \"A\": [1, 2, np.nan, 4],\n",
        "    \"B\": [np.nan, 2, 3, 4],\n",
        "    \"C\": [\"foo\", \"bar\", np.nan, \"baz\"],\n",
        "    \"D\": [np.nan, np.nan, np.nan, np.nan],\n",
        "})\n",
        "\n",
        "print(\"DataFrame:\")\n",
        "print(df)\n",
        "\n",
        "# Contando valores não nulos em cada coluna\n",
        "print(\"\\nContagem por coluna:\")\n",
        "print(df.count())\n"
      ],
      "metadata": {
        "id": "pjgeukQAsnkg",
        "colab": {
          "base_uri": "https://localhost:8080/"
        },
        "outputId": "ddf3cc94-9846-4478-ed61-3628354a3d49"
      },
      "execution_count": null,
      "outputs": [
        {
          "output_type": "stream",
          "name": "stdout",
          "text": [
            "DataFrame:\n",
            "     A    B    C   D\n",
            "0  1.0  NaN  foo NaN\n",
            "1  2.0  2.0  bar NaN\n",
            "2  NaN  3.0  NaN NaN\n",
            "3  4.0  4.0  baz NaN\n",
            "\n",
            "Contagem por coluna:\n",
            "A    3\n",
            "B    3\n",
            "C    3\n",
            "D    0\n",
            "dtype: int64\n"
          ]
        }
      ]
    },
    {
      "cell_type": "markdown",
      "source": [
        "O método `Series.value_counts()` em pandas conta a frequência de cada valor único em um objeto `Series`, ou seja, quantas vezes cada valor aparece.\n",
        "\n",
        "> É uma ferramenta muito útil para análise de dados categóricos, pois oferece uma visão rápida da distribuição de valores."
      ],
      "metadata": {
        "id": "6v2qA2VJtH8n"
      }
    },
    {
      "cell_type": "code",
      "source": [
        "import pandas as pd\n",
        "\n",
        "# Criando uma Series\n",
        "serie = pd.Series([\"maçã\", \"banana\", \"laranja\", \"maçã\", \"banana\", \"maçã\"])\n",
        "\n",
        "print(\"Série original:\")\n",
        "print(serie)\n",
        "\n",
        "# Contando valores únicos\n",
        "print(\"\\nContagem de valores:\")\n",
        "print(serie.value_counts())\n",
        "\n",
        "# Frequência relativa\n",
        "print(\"\\nFrequência relativa:\")\n",
        "print(serie.value_counts(normalize=True))"
      ],
      "metadata": {
        "id": "JRyMNXHZHqa0",
        "colab": {
          "base_uri": "https://localhost:8080/"
        },
        "outputId": "6e838003-145d-462a-c460-573c962f9e09"
      },
      "execution_count": null,
      "outputs": [
        {
          "output_type": "stream",
          "name": "stdout",
          "text": [
            "Série original:\n",
            "0       maçã\n",
            "1     banana\n",
            "2    laranja\n",
            "3       maçã\n",
            "4     banana\n",
            "5       maçã\n",
            "dtype: object\n",
            "\n",
            "Contagem de valores:\n",
            "maçã       3\n",
            "banana     2\n",
            "laranja    1\n",
            "Name: count, dtype: int64\n",
            "\n",
            "Frequência relativa:\n",
            "maçã       0.500000\n",
            "banana     0.333333\n",
            "laranja    0.166667\n",
            "Name: proportion, dtype: float64\n"
          ]
        }
      ]
    },
    {
      "cell_type": "markdown",
      "source": [
        "## Métodos para *strings*"
      ],
      "metadata": {
        "id": "JanUf0V-Svcg"
      }
    },
    {
      "cell_type": "markdown",
      "source": [
        "`Series` possui um conjunto de métodos para processar atributos do tipo `str`."
      ],
      "metadata": {
        "id": "hUET6IJEHrDc"
      }
    },
    {
      "cell_type": "code",
      "source": [
        "s = pd.Series([\"A\", \"11B8\", \"99C\", \"Aaba\", \"Baca\", np.nan, \"CABA\", \"81dog\", \"cat\"])\n",
        "print( s.str.lower() )\n",
        "print(\"\\n\")\n",
        "print( s.str.findall(\"\\d+\") )\n",
        "\n",
        "## no caso de dataframe, então deve ser aplicado por coluna\n",
        "df = pd.DataFrame({\"A\": [\"AA99\", \"asda21\", \"21asd23\"],\n",
        "                   \"B\": [\"AA99\", \"asda21\", \"21asd23\"]})\n",
        "\n",
        "print(\"\\ndf:\\n\", df)\n",
        "\n",
        "df_transformed = df.agg(lambda col: col.str.findall(r\"\\d+\"))\n",
        "print(\"\\n\")\n",
        "print(df_transformed)"
      ],
      "metadata": {
        "id": "TzaQ7fCWJq-0",
        "colab": {
          "base_uri": "https://localhost:8080/"
        },
        "outputId": "45e2fcee-734c-47cc-9b65-0b36b1ccc6e0"
      },
      "execution_count": null,
      "outputs": [
        {
          "output_type": "stream",
          "name": "stdout",
          "text": [
            "0        a\n",
            "1     11b8\n",
            "2      99c\n",
            "3     aaba\n",
            "4     baca\n",
            "5      NaN\n",
            "6     caba\n",
            "7    81dog\n",
            "8      cat\n",
            "dtype: object\n",
            "\n",
            "\n",
            "0         []\n",
            "1    [11, 8]\n",
            "2       [99]\n",
            "3         []\n",
            "4         []\n",
            "5        NaN\n",
            "6         []\n",
            "7       [81]\n",
            "8         []\n",
            "dtype: object\n",
            "\n",
            "df:\n",
            "          A        B\n",
            "0     AA99     AA99\n",
            "1   asda21   asda21\n",
            "2  21asd23  21asd23\n",
            "\n",
            "\n",
            "          A         B\n",
            "0      [99]      [99]\n",
            "1      [21]      [21]\n",
            "2  [21, 23]  [21, 23]\n"
          ]
        }
      ]
    },
    {
      "cell_type": "markdown",
      "source": [
        "## Concatenação"
      ],
      "metadata": {
        "id": "f32V8P-MS65j"
      }
    },
    {
      "cell_type": "markdown",
      "source": [
        "A concatenação de objetos do *Pandas* é feito com `concat()`:"
      ],
      "metadata": {
        "id": "wn82NG0_Jsfz"
      }
    },
    {
      "cell_type": "code",
      "source": [
        "df = pd.DataFrame(np.random.randn(10, 4))\n",
        "df"
      ],
      "metadata": {
        "id": "lmJcxT55KiIP",
        "colab": {
          "base_uri": "https://localhost:8080/",
          "height": 363
        },
        "outputId": "83492692-2b3f-4ea5-f332-3b93ae19d201"
      },
      "execution_count": null,
      "outputs": [
        {
          "output_type": "execute_result",
          "data": {
            "text/plain": [
              "          0         1         2         3\n",
              "0 -0.437748 -0.006780 -1.862934  1.123194\n",
              "1 -0.615004  0.014545 -0.332321  0.979620\n",
              "2  0.330155  0.690127  0.184645  1.293462\n",
              "3 -0.086174  0.138647  0.111647  0.177912\n",
              "4  0.818666  0.763075  1.431204  0.125222\n",
              "5 -1.402430 -0.699437  0.079130 -0.057078\n",
              "6  1.343583  0.089536  1.578267  1.530965\n",
              "7 -1.618130 -0.001601 -0.297473 -1.220412\n",
              "8 -0.006364 -0.246370  0.262798 -0.111511\n",
              "9  0.581486  1.242250 -2.564055  0.649698"
            ],
            "text/html": [
              "\n",
              "  <div id=\"df-b49ec93a-037a-4e42-9e17-5dc0d5cf0bcb\" class=\"colab-df-container\">\n",
              "    <div>\n",
              "<style scoped>\n",
              "    .dataframe tbody tr th:only-of-type {\n",
              "        vertical-align: middle;\n",
              "    }\n",
              "\n",
              "    .dataframe tbody tr th {\n",
              "        vertical-align: top;\n",
              "    }\n",
              "\n",
              "    .dataframe thead th {\n",
              "        text-align: right;\n",
              "    }\n",
              "</style>\n",
              "<table border=\"1\" class=\"dataframe\">\n",
              "  <thead>\n",
              "    <tr style=\"text-align: right;\">\n",
              "      <th></th>\n",
              "      <th>0</th>\n",
              "      <th>1</th>\n",
              "      <th>2</th>\n",
              "      <th>3</th>\n",
              "    </tr>\n",
              "  </thead>\n",
              "  <tbody>\n",
              "    <tr>\n",
              "      <th>0</th>\n",
              "      <td>-0.437748</td>\n",
              "      <td>-0.006780</td>\n",
              "      <td>-1.862934</td>\n",
              "      <td>1.123194</td>\n",
              "    </tr>\n",
              "    <tr>\n",
              "      <th>1</th>\n",
              "      <td>-0.615004</td>\n",
              "      <td>0.014545</td>\n",
              "      <td>-0.332321</td>\n",
              "      <td>0.979620</td>\n",
              "    </tr>\n",
              "    <tr>\n",
              "      <th>2</th>\n",
              "      <td>0.330155</td>\n",
              "      <td>0.690127</td>\n",
              "      <td>0.184645</td>\n",
              "      <td>1.293462</td>\n",
              "    </tr>\n",
              "    <tr>\n",
              "      <th>3</th>\n",
              "      <td>-0.086174</td>\n",
              "      <td>0.138647</td>\n",
              "      <td>0.111647</td>\n",
              "      <td>0.177912</td>\n",
              "    </tr>\n",
              "    <tr>\n",
              "      <th>4</th>\n",
              "      <td>0.818666</td>\n",
              "      <td>0.763075</td>\n",
              "      <td>1.431204</td>\n",
              "      <td>0.125222</td>\n",
              "    </tr>\n",
              "    <tr>\n",
              "      <th>5</th>\n",
              "      <td>-1.402430</td>\n",
              "      <td>-0.699437</td>\n",
              "      <td>0.079130</td>\n",
              "      <td>-0.057078</td>\n",
              "    </tr>\n",
              "    <tr>\n",
              "      <th>6</th>\n",
              "      <td>1.343583</td>\n",
              "      <td>0.089536</td>\n",
              "      <td>1.578267</td>\n",
              "      <td>1.530965</td>\n",
              "    </tr>\n",
              "    <tr>\n",
              "      <th>7</th>\n",
              "      <td>-1.618130</td>\n",
              "      <td>-0.001601</td>\n",
              "      <td>-0.297473</td>\n",
              "      <td>-1.220412</td>\n",
              "    </tr>\n",
              "    <tr>\n",
              "      <th>8</th>\n",
              "      <td>-0.006364</td>\n",
              "      <td>-0.246370</td>\n",
              "      <td>0.262798</td>\n",
              "      <td>-0.111511</td>\n",
              "    </tr>\n",
              "    <tr>\n",
              "      <th>9</th>\n",
              "      <td>0.581486</td>\n",
              "      <td>1.242250</td>\n",
              "      <td>-2.564055</td>\n",
              "      <td>0.649698</td>\n",
              "    </tr>\n",
              "  </tbody>\n",
              "</table>\n",
              "</div>\n",
              "    <div class=\"colab-df-buttons\">\n",
              "\n",
              "  <div class=\"colab-df-container\">\n",
              "    <button class=\"colab-df-convert\" onclick=\"convertToInteractive('df-b49ec93a-037a-4e42-9e17-5dc0d5cf0bcb')\"\n",
              "            title=\"Convert this dataframe to an interactive table.\"\n",
              "            style=\"display:none;\">\n",
              "\n",
              "  <svg xmlns=\"http://www.w3.org/2000/svg\" height=\"24px\" viewBox=\"0 -960 960 960\">\n",
              "    <path d=\"M120-120v-720h720v720H120Zm60-500h600v-160H180v160Zm220 220h160v-160H400v160Zm0 220h160v-160H400v160ZM180-400h160v-160H180v160Zm440 0h160v-160H620v160ZM180-180h160v-160H180v160Zm440 0h160v-160H620v160Z\"/>\n",
              "  </svg>\n",
              "    </button>\n",
              "\n",
              "  <style>\n",
              "    .colab-df-container {\n",
              "      display:flex;\n",
              "      gap: 12px;\n",
              "    }\n",
              "\n",
              "    .colab-df-convert {\n",
              "      background-color: #E8F0FE;\n",
              "      border: none;\n",
              "      border-radius: 50%;\n",
              "      cursor: pointer;\n",
              "      display: none;\n",
              "      fill: #1967D2;\n",
              "      height: 32px;\n",
              "      padding: 0 0 0 0;\n",
              "      width: 32px;\n",
              "    }\n",
              "\n",
              "    .colab-df-convert:hover {\n",
              "      background-color: #E2EBFA;\n",
              "      box-shadow: 0px 1px 2px rgba(60, 64, 67, 0.3), 0px 1px 3px 1px rgba(60, 64, 67, 0.15);\n",
              "      fill: #174EA6;\n",
              "    }\n",
              "\n",
              "    .colab-df-buttons div {\n",
              "      margin-bottom: 4px;\n",
              "    }\n",
              "\n",
              "    [theme=dark] .colab-df-convert {\n",
              "      background-color: #3B4455;\n",
              "      fill: #D2E3FC;\n",
              "    }\n",
              "\n",
              "    [theme=dark] .colab-df-convert:hover {\n",
              "      background-color: #434B5C;\n",
              "      box-shadow: 0px 1px 3px 1px rgba(0, 0, 0, 0.15);\n",
              "      filter: drop-shadow(0px 1px 2px rgba(0, 0, 0, 0.3));\n",
              "      fill: #FFFFFF;\n",
              "    }\n",
              "  </style>\n",
              "\n",
              "    <script>\n",
              "      const buttonEl =\n",
              "        document.querySelector('#df-b49ec93a-037a-4e42-9e17-5dc0d5cf0bcb button.colab-df-convert');\n",
              "      buttonEl.style.display =\n",
              "        google.colab.kernel.accessAllowed ? 'block' : 'none';\n",
              "\n",
              "      async function convertToInteractive(key) {\n",
              "        const element = document.querySelector('#df-b49ec93a-037a-4e42-9e17-5dc0d5cf0bcb');\n",
              "        const dataTable =\n",
              "          await google.colab.kernel.invokeFunction('convertToInteractive',\n",
              "                                                    [key], {});\n",
              "        if (!dataTable) return;\n",
              "\n",
              "        const docLinkHtml = 'Like what you see? Visit the ' +\n",
              "          '<a target=\"_blank\" href=https://colab.research.google.com/notebooks/data_table.ipynb>data table notebook</a>'\n",
              "          + ' to learn more about interactive tables.';\n",
              "        element.innerHTML = '';\n",
              "        dataTable['output_type'] = 'display_data';\n",
              "        await google.colab.output.renderOutput(dataTable, element);\n",
              "        const docLink = document.createElement('div');\n",
              "        docLink.innerHTML = docLinkHtml;\n",
              "        element.appendChild(docLink);\n",
              "      }\n",
              "    </script>\n",
              "  </div>\n",
              "\n",
              "\n",
              "    <div id=\"df-ce738532-e161-4ca5-b667-c14d58e08c06\">\n",
              "      <button class=\"colab-df-quickchart\" onclick=\"quickchart('df-ce738532-e161-4ca5-b667-c14d58e08c06')\"\n",
              "                title=\"Suggest charts\"\n",
              "                style=\"display:none;\">\n",
              "\n",
              "<svg xmlns=\"http://www.w3.org/2000/svg\" height=\"24px\"viewBox=\"0 0 24 24\"\n",
              "     width=\"24px\">\n",
              "    <g>\n",
              "        <path d=\"M19 3H5c-1.1 0-2 .9-2 2v14c0 1.1.9 2 2 2h14c1.1 0 2-.9 2-2V5c0-1.1-.9-2-2-2zM9 17H7v-7h2v7zm4 0h-2V7h2v10zm4 0h-2v-4h2v4z\"/>\n",
              "    </g>\n",
              "</svg>\n",
              "      </button>\n",
              "\n",
              "<style>\n",
              "  .colab-df-quickchart {\n",
              "      --bg-color: #E8F0FE;\n",
              "      --fill-color: #1967D2;\n",
              "      --hover-bg-color: #E2EBFA;\n",
              "      --hover-fill-color: #174EA6;\n",
              "      --disabled-fill-color: #AAA;\n",
              "      --disabled-bg-color: #DDD;\n",
              "  }\n",
              "\n",
              "  [theme=dark] .colab-df-quickchart {\n",
              "      --bg-color: #3B4455;\n",
              "      --fill-color: #D2E3FC;\n",
              "      --hover-bg-color: #434B5C;\n",
              "      --hover-fill-color: #FFFFFF;\n",
              "      --disabled-bg-color: #3B4455;\n",
              "      --disabled-fill-color: #666;\n",
              "  }\n",
              "\n",
              "  .colab-df-quickchart {\n",
              "    background-color: var(--bg-color);\n",
              "    border: none;\n",
              "    border-radius: 50%;\n",
              "    cursor: pointer;\n",
              "    display: none;\n",
              "    fill: var(--fill-color);\n",
              "    height: 32px;\n",
              "    padding: 0;\n",
              "    width: 32px;\n",
              "  }\n",
              "\n",
              "  .colab-df-quickchart:hover {\n",
              "    background-color: var(--hover-bg-color);\n",
              "    box-shadow: 0 1px 2px rgba(60, 64, 67, 0.3), 0 1px 3px 1px rgba(60, 64, 67, 0.15);\n",
              "    fill: var(--button-hover-fill-color);\n",
              "  }\n",
              "\n",
              "  .colab-df-quickchart-complete:disabled,\n",
              "  .colab-df-quickchart-complete:disabled:hover {\n",
              "    background-color: var(--disabled-bg-color);\n",
              "    fill: var(--disabled-fill-color);\n",
              "    box-shadow: none;\n",
              "  }\n",
              "\n",
              "  .colab-df-spinner {\n",
              "    border: 2px solid var(--fill-color);\n",
              "    border-color: transparent;\n",
              "    border-bottom-color: var(--fill-color);\n",
              "    animation:\n",
              "      spin 1s steps(1) infinite;\n",
              "  }\n",
              "\n",
              "  @keyframes spin {\n",
              "    0% {\n",
              "      border-color: transparent;\n",
              "      border-bottom-color: var(--fill-color);\n",
              "      border-left-color: var(--fill-color);\n",
              "    }\n",
              "    20% {\n",
              "      border-color: transparent;\n",
              "      border-left-color: var(--fill-color);\n",
              "      border-top-color: var(--fill-color);\n",
              "    }\n",
              "    30% {\n",
              "      border-color: transparent;\n",
              "      border-left-color: var(--fill-color);\n",
              "      border-top-color: var(--fill-color);\n",
              "      border-right-color: var(--fill-color);\n",
              "    }\n",
              "    40% {\n",
              "      border-color: transparent;\n",
              "      border-right-color: var(--fill-color);\n",
              "      border-top-color: var(--fill-color);\n",
              "    }\n",
              "    60% {\n",
              "      border-color: transparent;\n",
              "      border-right-color: var(--fill-color);\n",
              "    }\n",
              "    80% {\n",
              "      border-color: transparent;\n",
              "      border-right-color: var(--fill-color);\n",
              "      border-bottom-color: var(--fill-color);\n",
              "    }\n",
              "    90% {\n",
              "      border-color: transparent;\n",
              "      border-bottom-color: var(--fill-color);\n",
              "    }\n",
              "  }\n",
              "</style>\n",
              "\n",
              "      <script>\n",
              "        async function quickchart(key) {\n",
              "          const quickchartButtonEl =\n",
              "            document.querySelector('#' + key + ' button');\n",
              "          quickchartButtonEl.disabled = true;  // To prevent multiple clicks.\n",
              "          quickchartButtonEl.classList.add('colab-df-spinner');\n",
              "          try {\n",
              "            const charts = await google.colab.kernel.invokeFunction(\n",
              "                'suggestCharts', [key], {});\n",
              "          } catch (error) {\n",
              "            console.error('Error during call to suggestCharts:', error);\n",
              "          }\n",
              "          quickchartButtonEl.classList.remove('colab-df-spinner');\n",
              "          quickchartButtonEl.classList.add('colab-df-quickchart-complete');\n",
              "        }\n",
              "        (() => {\n",
              "          let quickchartButtonEl =\n",
              "            document.querySelector('#df-ce738532-e161-4ca5-b667-c14d58e08c06 button');\n",
              "          quickchartButtonEl.style.display =\n",
              "            google.colab.kernel.accessAllowed ? 'block' : 'none';\n",
              "        })();\n",
              "      </script>\n",
              "    </div>\n",
              "\n",
              "  <div id=\"id_b4ebf277-b7a0-4f6f-ae8b-78503273fce9\">\n",
              "    <style>\n",
              "      .colab-df-generate {\n",
              "        background-color: #E8F0FE;\n",
              "        border: none;\n",
              "        border-radius: 50%;\n",
              "        cursor: pointer;\n",
              "        display: none;\n",
              "        fill: #1967D2;\n",
              "        height: 32px;\n",
              "        padding: 0 0 0 0;\n",
              "        width: 32px;\n",
              "      }\n",
              "\n",
              "      .colab-df-generate:hover {\n",
              "        background-color: #E2EBFA;\n",
              "        box-shadow: 0px 1px 2px rgba(60, 64, 67, 0.3), 0px 1px 3px 1px rgba(60, 64, 67, 0.15);\n",
              "        fill: #174EA6;\n",
              "      }\n",
              "\n",
              "      [theme=dark] .colab-df-generate {\n",
              "        background-color: #3B4455;\n",
              "        fill: #D2E3FC;\n",
              "      }\n",
              "\n",
              "      [theme=dark] .colab-df-generate:hover {\n",
              "        background-color: #434B5C;\n",
              "        box-shadow: 0px 1px 3px 1px rgba(0, 0, 0, 0.15);\n",
              "        filter: drop-shadow(0px 1px 2px rgba(0, 0, 0, 0.3));\n",
              "        fill: #FFFFFF;\n",
              "      }\n",
              "    </style>\n",
              "    <button class=\"colab-df-generate\" onclick=\"generateWithVariable('df')\"\n",
              "            title=\"Generate code using this dataframe.\"\n",
              "            style=\"display:none;\">\n",
              "\n",
              "  <svg xmlns=\"http://www.w3.org/2000/svg\" height=\"24px\"viewBox=\"0 0 24 24\"\n",
              "       width=\"24px\">\n",
              "    <path d=\"M7,19H8.4L18.45,9,17,7.55,7,17.6ZM5,21V16.75L18.45,3.32a2,2,0,0,1,2.83,0l1.4,1.43a1.91,1.91,0,0,1,.58,1.4,1.91,1.91,0,0,1-.58,1.4L9.25,21ZM18.45,9,17,7.55Zm-12,3A5.31,5.31,0,0,0,4.9,8.1,5.31,5.31,0,0,0,1,6.5,5.31,5.31,0,0,0,4.9,4.9,5.31,5.31,0,0,0,6.5,1,5.31,5.31,0,0,0,8.1,4.9,5.31,5.31,0,0,0,12,6.5,5.46,5.46,0,0,0,6.5,12Z\"/>\n",
              "  </svg>\n",
              "    </button>\n",
              "    <script>\n",
              "      (() => {\n",
              "      const buttonEl =\n",
              "        document.querySelector('#id_b4ebf277-b7a0-4f6f-ae8b-78503273fce9 button.colab-df-generate');\n",
              "      buttonEl.style.display =\n",
              "        google.colab.kernel.accessAllowed ? 'block' : 'none';\n",
              "\n",
              "      buttonEl.onclick = () => {\n",
              "        google.colab.notebook.generateWithVariable('df');\n",
              "      }\n",
              "      })();\n",
              "    </script>\n",
              "  </div>\n",
              "\n",
              "    </div>\n",
              "  </div>\n"
            ],
            "application/vnd.google.colaboratory.intrinsic+json": {
              "type": "dataframe",
              "variable_name": "df",
              "summary": "{\n  \"name\": \"df\",\n  \"rows\": 10,\n  \"fields\": [\n    {\n      \"column\": 0,\n      \"properties\": {\n        \"dtype\": \"number\",\n        \"std\": 0.9407912342804382,\n        \"min\": -1.618129593577518,\n        \"max\": 1.3435832273710866,\n        \"num_unique_values\": 10,\n        \"samples\": [\n          -0.006364497791610422,\n          -0.615004222604232,\n          -1.4024298525580292\n        ],\n        \"semantic_type\": \"\",\n        \"description\": \"\"\n      }\n    },\n    {\n      \"column\": 1,\n      \"properties\": {\n        \"dtype\": \"number\",\n        \"std\": 0.5563304649995551,\n        \"min\": -0.6994374343600406,\n        \"max\": 1.2422501732774975,\n        \"num_unique_values\": 10,\n        \"samples\": [\n          -0.24636951466778545,\n          0.01454502013044579,\n          -0.6994374343600406\n        ],\n        \"semantic_type\": \"\",\n        \"description\": \"\"\n      }\n    },\n    {\n      \"column\": 2,\n      \"properties\": {\n        \"dtype\": \"number\",\n        \"std\": 1.2782988220167022,\n        \"min\": -2.5640553856218484,\n        \"max\": 1.5782665295110603,\n        \"num_unique_values\": 10,\n        \"samples\": [\n          0.26279798057068077,\n          -0.3323207508940802,\n          0.07913014132323672\n        ],\n        \"semantic_type\": \"\",\n        \"description\": \"\"\n      }\n    },\n    {\n      \"column\": 3,\n      \"properties\": {\n        \"dtype\": \"number\",\n        \"std\": 0.8297043819956146,\n        \"min\": -1.2204115900394843,\n        \"max\": 1.5309653398568444,\n        \"num_unique_values\": 10,\n        \"samples\": [\n          -0.11151102459718357,\n          0.9796197490264825,\n          -0.0570784493344173\n        ],\n        \"semantic_type\": \"\",\n        \"description\": \"\"\n      }\n    }\n  ]\n}"
            }
          },
          "metadata": {},
          "execution_count": 6
        }
      ]
    },
    {
      "cell_type": "code",
      "source": [
        "# quebra em vários pedaços\n",
        "pieces = (df[:3], df[3:7], df[7:]) ## tupla de DataFrames\n",
        "\n",
        "# junção dos pedaços\n",
        "pd.concat(pieces, axis=0)"
      ],
      "metadata": {
        "id": "Q_0LUjuwKkp1",
        "colab": {
          "base_uri": "https://localhost:8080/",
          "height": 363
        },
        "outputId": "9e574c12-1567-478a-ad20-ca2f7e22925d"
      },
      "execution_count": null,
      "outputs": [
        {
          "output_type": "execute_result",
          "data": {
            "text/plain": [
              "          0         1         2         3\n",
              "0 -0.437748 -0.006780 -1.862934  1.123194\n",
              "1 -0.615004  0.014545 -0.332321  0.979620\n",
              "2  0.330155  0.690127  0.184645  1.293462\n",
              "3 -0.086174  0.138647  0.111647  0.177912\n",
              "4  0.818666  0.763075  1.431204  0.125222\n",
              "5 -1.402430 -0.699437  0.079130 -0.057078\n",
              "6  1.343583  0.089536  1.578267  1.530965\n",
              "7 -1.618130 -0.001601 -0.297473 -1.220412\n",
              "8 -0.006364 -0.246370  0.262798 -0.111511\n",
              "9  0.581486  1.242250 -2.564055  0.649698"
            ],
            "text/html": [
              "\n",
              "  <div id=\"df-6ecef981-4073-4bf0-9898-3bb1a1bc950c\" class=\"colab-df-container\">\n",
              "    <div>\n",
              "<style scoped>\n",
              "    .dataframe tbody tr th:only-of-type {\n",
              "        vertical-align: middle;\n",
              "    }\n",
              "\n",
              "    .dataframe tbody tr th {\n",
              "        vertical-align: top;\n",
              "    }\n",
              "\n",
              "    .dataframe thead th {\n",
              "        text-align: right;\n",
              "    }\n",
              "</style>\n",
              "<table border=\"1\" class=\"dataframe\">\n",
              "  <thead>\n",
              "    <tr style=\"text-align: right;\">\n",
              "      <th></th>\n",
              "      <th>0</th>\n",
              "      <th>1</th>\n",
              "      <th>2</th>\n",
              "      <th>3</th>\n",
              "    </tr>\n",
              "  </thead>\n",
              "  <tbody>\n",
              "    <tr>\n",
              "      <th>0</th>\n",
              "      <td>-0.437748</td>\n",
              "      <td>-0.006780</td>\n",
              "      <td>-1.862934</td>\n",
              "      <td>1.123194</td>\n",
              "    </tr>\n",
              "    <tr>\n",
              "      <th>1</th>\n",
              "      <td>-0.615004</td>\n",
              "      <td>0.014545</td>\n",
              "      <td>-0.332321</td>\n",
              "      <td>0.979620</td>\n",
              "    </tr>\n",
              "    <tr>\n",
              "      <th>2</th>\n",
              "      <td>0.330155</td>\n",
              "      <td>0.690127</td>\n",
              "      <td>0.184645</td>\n",
              "      <td>1.293462</td>\n",
              "    </tr>\n",
              "    <tr>\n",
              "      <th>3</th>\n",
              "      <td>-0.086174</td>\n",
              "      <td>0.138647</td>\n",
              "      <td>0.111647</td>\n",
              "      <td>0.177912</td>\n",
              "    </tr>\n",
              "    <tr>\n",
              "      <th>4</th>\n",
              "      <td>0.818666</td>\n",
              "      <td>0.763075</td>\n",
              "      <td>1.431204</td>\n",
              "      <td>0.125222</td>\n",
              "    </tr>\n",
              "    <tr>\n",
              "      <th>5</th>\n",
              "      <td>-1.402430</td>\n",
              "      <td>-0.699437</td>\n",
              "      <td>0.079130</td>\n",
              "      <td>-0.057078</td>\n",
              "    </tr>\n",
              "    <tr>\n",
              "      <th>6</th>\n",
              "      <td>1.343583</td>\n",
              "      <td>0.089536</td>\n",
              "      <td>1.578267</td>\n",
              "      <td>1.530965</td>\n",
              "    </tr>\n",
              "    <tr>\n",
              "      <th>7</th>\n",
              "      <td>-1.618130</td>\n",
              "      <td>-0.001601</td>\n",
              "      <td>-0.297473</td>\n",
              "      <td>-1.220412</td>\n",
              "    </tr>\n",
              "    <tr>\n",
              "      <th>8</th>\n",
              "      <td>-0.006364</td>\n",
              "      <td>-0.246370</td>\n",
              "      <td>0.262798</td>\n",
              "      <td>-0.111511</td>\n",
              "    </tr>\n",
              "    <tr>\n",
              "      <th>9</th>\n",
              "      <td>0.581486</td>\n",
              "      <td>1.242250</td>\n",
              "      <td>-2.564055</td>\n",
              "      <td>0.649698</td>\n",
              "    </tr>\n",
              "  </tbody>\n",
              "</table>\n",
              "</div>\n",
              "    <div class=\"colab-df-buttons\">\n",
              "\n",
              "  <div class=\"colab-df-container\">\n",
              "    <button class=\"colab-df-convert\" onclick=\"convertToInteractive('df-6ecef981-4073-4bf0-9898-3bb1a1bc950c')\"\n",
              "            title=\"Convert this dataframe to an interactive table.\"\n",
              "            style=\"display:none;\">\n",
              "\n",
              "  <svg xmlns=\"http://www.w3.org/2000/svg\" height=\"24px\" viewBox=\"0 -960 960 960\">\n",
              "    <path d=\"M120-120v-720h720v720H120Zm60-500h600v-160H180v160Zm220 220h160v-160H400v160Zm0 220h160v-160H400v160ZM180-400h160v-160H180v160Zm440 0h160v-160H620v160ZM180-180h160v-160H180v160Zm440 0h160v-160H620v160Z\"/>\n",
              "  </svg>\n",
              "    </button>\n",
              "\n",
              "  <style>\n",
              "    .colab-df-container {\n",
              "      display:flex;\n",
              "      gap: 12px;\n",
              "    }\n",
              "\n",
              "    .colab-df-convert {\n",
              "      background-color: #E8F0FE;\n",
              "      border: none;\n",
              "      border-radius: 50%;\n",
              "      cursor: pointer;\n",
              "      display: none;\n",
              "      fill: #1967D2;\n",
              "      height: 32px;\n",
              "      padding: 0 0 0 0;\n",
              "      width: 32px;\n",
              "    }\n",
              "\n",
              "    .colab-df-convert:hover {\n",
              "      background-color: #E2EBFA;\n",
              "      box-shadow: 0px 1px 2px rgba(60, 64, 67, 0.3), 0px 1px 3px 1px rgba(60, 64, 67, 0.15);\n",
              "      fill: #174EA6;\n",
              "    }\n",
              "\n",
              "    .colab-df-buttons div {\n",
              "      margin-bottom: 4px;\n",
              "    }\n",
              "\n",
              "    [theme=dark] .colab-df-convert {\n",
              "      background-color: #3B4455;\n",
              "      fill: #D2E3FC;\n",
              "    }\n",
              "\n",
              "    [theme=dark] .colab-df-convert:hover {\n",
              "      background-color: #434B5C;\n",
              "      box-shadow: 0px 1px 3px 1px rgba(0, 0, 0, 0.15);\n",
              "      filter: drop-shadow(0px 1px 2px rgba(0, 0, 0, 0.3));\n",
              "      fill: #FFFFFF;\n",
              "    }\n",
              "  </style>\n",
              "\n",
              "    <script>\n",
              "      const buttonEl =\n",
              "        document.querySelector('#df-6ecef981-4073-4bf0-9898-3bb1a1bc950c button.colab-df-convert');\n",
              "      buttonEl.style.display =\n",
              "        google.colab.kernel.accessAllowed ? 'block' : 'none';\n",
              "\n",
              "      async function convertToInteractive(key) {\n",
              "        const element = document.querySelector('#df-6ecef981-4073-4bf0-9898-3bb1a1bc950c');\n",
              "        const dataTable =\n",
              "          await google.colab.kernel.invokeFunction('convertToInteractive',\n",
              "                                                    [key], {});\n",
              "        if (!dataTable) return;\n",
              "\n",
              "        const docLinkHtml = 'Like what you see? Visit the ' +\n",
              "          '<a target=\"_blank\" href=https://colab.research.google.com/notebooks/data_table.ipynb>data table notebook</a>'\n",
              "          + ' to learn more about interactive tables.';\n",
              "        element.innerHTML = '';\n",
              "        dataTable['output_type'] = 'display_data';\n",
              "        await google.colab.output.renderOutput(dataTable, element);\n",
              "        const docLink = document.createElement('div');\n",
              "        docLink.innerHTML = docLinkHtml;\n",
              "        element.appendChild(docLink);\n",
              "      }\n",
              "    </script>\n",
              "  </div>\n",
              "\n",
              "\n",
              "    <div id=\"df-7f8f26e4-6bb0-4a90-9778-b565913ed09e\">\n",
              "      <button class=\"colab-df-quickchart\" onclick=\"quickchart('df-7f8f26e4-6bb0-4a90-9778-b565913ed09e')\"\n",
              "                title=\"Suggest charts\"\n",
              "                style=\"display:none;\">\n",
              "\n",
              "<svg xmlns=\"http://www.w3.org/2000/svg\" height=\"24px\"viewBox=\"0 0 24 24\"\n",
              "     width=\"24px\">\n",
              "    <g>\n",
              "        <path d=\"M19 3H5c-1.1 0-2 .9-2 2v14c0 1.1.9 2 2 2h14c1.1 0 2-.9 2-2V5c0-1.1-.9-2-2-2zM9 17H7v-7h2v7zm4 0h-2V7h2v10zm4 0h-2v-4h2v4z\"/>\n",
              "    </g>\n",
              "</svg>\n",
              "      </button>\n",
              "\n",
              "<style>\n",
              "  .colab-df-quickchart {\n",
              "      --bg-color: #E8F0FE;\n",
              "      --fill-color: #1967D2;\n",
              "      --hover-bg-color: #E2EBFA;\n",
              "      --hover-fill-color: #174EA6;\n",
              "      --disabled-fill-color: #AAA;\n",
              "      --disabled-bg-color: #DDD;\n",
              "  }\n",
              "\n",
              "  [theme=dark] .colab-df-quickchart {\n",
              "      --bg-color: #3B4455;\n",
              "      --fill-color: #D2E3FC;\n",
              "      --hover-bg-color: #434B5C;\n",
              "      --hover-fill-color: #FFFFFF;\n",
              "      --disabled-bg-color: #3B4455;\n",
              "      --disabled-fill-color: #666;\n",
              "  }\n",
              "\n",
              "  .colab-df-quickchart {\n",
              "    background-color: var(--bg-color);\n",
              "    border: none;\n",
              "    border-radius: 50%;\n",
              "    cursor: pointer;\n",
              "    display: none;\n",
              "    fill: var(--fill-color);\n",
              "    height: 32px;\n",
              "    padding: 0;\n",
              "    width: 32px;\n",
              "  }\n",
              "\n",
              "  .colab-df-quickchart:hover {\n",
              "    background-color: var(--hover-bg-color);\n",
              "    box-shadow: 0 1px 2px rgba(60, 64, 67, 0.3), 0 1px 3px 1px rgba(60, 64, 67, 0.15);\n",
              "    fill: var(--button-hover-fill-color);\n",
              "  }\n",
              "\n",
              "  .colab-df-quickchart-complete:disabled,\n",
              "  .colab-df-quickchart-complete:disabled:hover {\n",
              "    background-color: var(--disabled-bg-color);\n",
              "    fill: var(--disabled-fill-color);\n",
              "    box-shadow: none;\n",
              "  }\n",
              "\n",
              "  .colab-df-spinner {\n",
              "    border: 2px solid var(--fill-color);\n",
              "    border-color: transparent;\n",
              "    border-bottom-color: var(--fill-color);\n",
              "    animation:\n",
              "      spin 1s steps(1) infinite;\n",
              "  }\n",
              "\n",
              "  @keyframes spin {\n",
              "    0% {\n",
              "      border-color: transparent;\n",
              "      border-bottom-color: var(--fill-color);\n",
              "      border-left-color: var(--fill-color);\n",
              "    }\n",
              "    20% {\n",
              "      border-color: transparent;\n",
              "      border-left-color: var(--fill-color);\n",
              "      border-top-color: var(--fill-color);\n",
              "    }\n",
              "    30% {\n",
              "      border-color: transparent;\n",
              "      border-left-color: var(--fill-color);\n",
              "      border-top-color: var(--fill-color);\n",
              "      border-right-color: var(--fill-color);\n",
              "    }\n",
              "    40% {\n",
              "      border-color: transparent;\n",
              "      border-right-color: var(--fill-color);\n",
              "      border-top-color: var(--fill-color);\n",
              "    }\n",
              "    60% {\n",
              "      border-color: transparent;\n",
              "      border-right-color: var(--fill-color);\n",
              "    }\n",
              "    80% {\n",
              "      border-color: transparent;\n",
              "      border-right-color: var(--fill-color);\n",
              "      border-bottom-color: var(--fill-color);\n",
              "    }\n",
              "    90% {\n",
              "      border-color: transparent;\n",
              "      border-bottom-color: var(--fill-color);\n",
              "    }\n",
              "  }\n",
              "</style>\n",
              "\n",
              "      <script>\n",
              "        async function quickchart(key) {\n",
              "          const quickchartButtonEl =\n",
              "            document.querySelector('#' + key + ' button');\n",
              "          quickchartButtonEl.disabled = true;  // To prevent multiple clicks.\n",
              "          quickchartButtonEl.classList.add('colab-df-spinner');\n",
              "          try {\n",
              "            const charts = await google.colab.kernel.invokeFunction(\n",
              "                'suggestCharts', [key], {});\n",
              "          } catch (error) {\n",
              "            console.error('Error during call to suggestCharts:', error);\n",
              "          }\n",
              "          quickchartButtonEl.classList.remove('colab-df-spinner');\n",
              "          quickchartButtonEl.classList.add('colab-df-quickchart-complete');\n",
              "        }\n",
              "        (() => {\n",
              "          let quickchartButtonEl =\n",
              "            document.querySelector('#df-7f8f26e4-6bb0-4a90-9778-b565913ed09e button');\n",
              "          quickchartButtonEl.style.display =\n",
              "            google.colab.kernel.accessAllowed ? 'block' : 'none';\n",
              "        })();\n",
              "      </script>\n",
              "    </div>\n",
              "\n",
              "    </div>\n",
              "  </div>\n"
            ],
            "application/vnd.google.colaboratory.intrinsic+json": {
              "type": "dataframe",
              "summary": "{\n  \"name\": \"pd\",\n  \"rows\": 10,\n  \"fields\": [\n    {\n      \"column\": 0,\n      \"properties\": {\n        \"dtype\": \"number\",\n        \"std\": 0.9407912342804382,\n        \"min\": -1.618129593577518,\n        \"max\": 1.3435832273710866,\n        \"num_unique_values\": 10,\n        \"samples\": [\n          -0.006364497791610422,\n          -0.615004222604232,\n          -1.4024298525580292\n        ],\n        \"semantic_type\": \"\",\n        \"description\": \"\"\n      }\n    },\n    {\n      \"column\": 1,\n      \"properties\": {\n        \"dtype\": \"number\",\n        \"std\": 0.5563304649995551,\n        \"min\": -0.6994374343600406,\n        \"max\": 1.2422501732774975,\n        \"num_unique_values\": 10,\n        \"samples\": [\n          -0.24636951466778545,\n          0.01454502013044579,\n          -0.6994374343600406\n        ],\n        \"semantic_type\": \"\",\n        \"description\": \"\"\n      }\n    },\n    {\n      \"column\": 2,\n      \"properties\": {\n        \"dtype\": \"number\",\n        \"std\": 1.2782988220167022,\n        \"min\": -2.5640553856218484,\n        \"max\": 1.5782665295110603,\n        \"num_unique_values\": 10,\n        \"samples\": [\n          0.26279798057068077,\n          -0.3323207508940802,\n          0.07913014132323672\n        ],\n        \"semantic_type\": \"\",\n        \"description\": \"\"\n      }\n    },\n    {\n      \"column\": 3,\n      \"properties\": {\n        \"dtype\": \"number\",\n        \"std\": 0.8297043819956146,\n        \"min\": -1.2204115900394843,\n        \"max\": 1.5309653398568444,\n        \"num_unique_values\": 10,\n        \"samples\": [\n          -0.11151102459718357,\n          0.9796197490264825,\n          -0.0570784493344173\n        ],\n        \"semantic_type\": \"\",\n        \"description\": \"\"\n      }\n    }\n  ]\n}"
            }
          },
          "metadata": {},
          "execution_count": 10
        }
      ]
    },
    {
      "cell_type": "markdown",
      "source": [
        "## Exercício 2\n",
        "\n",
        "Considere o seguinte `DataFrame`:\n",
        "```python\n",
        "dados = {\n",
        "    \"Cliente\": [\"Ana\", \"bruno\", \"Carlos\", \"Diana\", \"Eduarda\", np.nan, \"fábio\", \"Gabriela\"],\n",
        "    \"Produto\": [\"Notebook\", \"Smartphone\", \"Notebook\", \"Tablet\", \"Notebook\", \"Smartphone\", np.nan, \"Tablet\"],\n",
        "    \"Valor\": [3000, 2000, 3000, 1500, 3000, 2000, 1500, 1500],\n",
        "    \"Data\": [\"2023-01-15\", \"2023-01-16\", np.nan, \"2023-02-10\", \"2023-02-10\", \"2023-01-16\", \"2023-02-15\", \"2023-02-16\"],\n",
        "}\n",
        "df = pd.DataFrame(dados)\n",
        "```\n",
        "Então:\n",
        "\n",
        "1. Qual é o número de valores não nulos em cada coluna do DataFrame?\n",
        "  \n",
        "  Dica: Utilize o método `count()`.\n",
        "\n",
        "1. Qual produto foi vendido mais vezes?\n",
        "  \n",
        "  Dica: Utilize o método `value_counts()` para listar a quantidade de prudutos vendidos e `.idxmax()` para mostrar qual o produto mais vendito.\n",
        "  \n",
        "1. Passe a primeira letra do nome de cada cliente para maiúscula. Dica: Utilize o método `str.title()`.\n",
        "\n",
        "1. Inclua o seguinte dados no final do `df`:\n",
        "```python\n",
        "df2 = pd.DataFrame({\n",
        "    \"Cliente\": [\"Jose\", \"Paula\"],\n",
        "    \"Produto\": [\"Tablet\", \"Notebook\"],\n",
        "    \"Valor\": [1500, 4000],\n",
        "    \"Data\": [\"2023-03-01\", \"2023-03-02\"],\n",
        "})\n",
        "```\n"
      ],
      "metadata": {
        "id": "e08pkKH-yeBJ"
      }
    },
    {
      "cell_type": "code",
      "source": [
        "import numpy as np\n",
        "import pandas as pd\n",
        "\n",
        "dados = {\n",
        "    \"Cliente\": [\"Ana\", \"bruno\", \"Carlos\", \"Diana\", \"Eduarda\", np.nan, \"fábio\", \"Gabriela\"],\n",
        "    \"Produto\": [\"Notebook\", \"Smartphone\", \"Notebook\", \"Tablet\", \"Notebook\", \"Smartphone\", np.nan, \"Tablet\"],\n",
        "    \"Valor\": [3000, 2000, 3000, 1500, 3000, 2000, 1500, 1500],\n",
        "    \"Data\": [\"2023-01-15\", \"2023-01-16\", np.nan, \"2023-02-10\", \"2023-02-10\", \"2023-01-16\", \"2023-02-15\", \"2023-02-16\"],\n",
        "}\n",
        "df = pd.DataFrame(dados)\n",
        "print(df, '\\n')\n",
        "\n",
        "print(df.count(), '\\n')\n",
        "\n",
        "mais_vendido = df.value_counts('Produto')\n",
        "print(mais_vendido, '\\n')\n",
        "print(mais_vendido.idxmax(), '\\n')\n",
        "\n",
        "df['Cliente'] = df['Cliente'].str.title()\n",
        "print(df, '\\n')\n",
        "\n",
        "df2 = pd.DataFrame({\n",
        " \"Cliente\": [\"Jose\", \"Paula\"],\n",
        " \"Produto\": [\"Tablet\", \"Notebook\"],\n",
        " \"Valor\": [1500, 4000],\n",
        " \"Data\": [\"2023-03-01\", \"2023-03-02\"],\n",
        "})\n",
        "\n",
        "dataframe = pd.concat([df,df2], ignore_index=True)\n",
        "print(dataframe, '\\n')"
      ],
      "metadata": {
        "colab": {
          "base_uri": "https://localhost:8080/"
        },
        "id": "CNHsWSGRTdN-",
        "outputId": "84f6ba85-3e55-41d6-be14-37f9a669d42a"
      },
      "execution_count": 14,
      "outputs": [
        {
          "output_type": "stream",
          "name": "stdout",
          "text": [
            "    Cliente     Produto  Valor        Data\n",
            "0       Ana    Notebook   3000  2023-01-15\n",
            "1     bruno  Smartphone   2000  2023-01-16\n",
            "2    Carlos    Notebook   3000         NaN\n",
            "3     Diana      Tablet   1500  2023-02-10\n",
            "4   Eduarda    Notebook   3000  2023-02-10\n",
            "5       NaN  Smartphone   2000  2023-01-16\n",
            "6     fábio         NaN   1500  2023-02-15\n",
            "7  Gabriela      Tablet   1500  2023-02-16 \n",
            "\n",
            "Cliente    7\n",
            "Produto    7\n",
            "Valor      8\n",
            "Data       7\n",
            "dtype: int64 \n",
            "\n",
            "Produto\n",
            "Notebook      3\n",
            "Smartphone    2\n",
            "Tablet        2\n",
            "Name: count, dtype: int64 \n",
            "\n",
            "Notebook \n",
            "\n",
            "    Cliente     Produto  Valor        Data\n",
            "0       Ana    Notebook   3000  2023-01-15\n",
            "1     Bruno  Smartphone   2000  2023-01-16\n",
            "2    Carlos    Notebook   3000         NaN\n",
            "3     Diana      Tablet   1500  2023-02-10\n",
            "4   Eduarda    Notebook   3000  2023-02-10\n",
            "5       NaN  Smartphone   2000  2023-01-16\n",
            "6     Fábio         NaN   1500  2023-02-15\n",
            "7  Gabriela      Tablet   1500  2023-02-16 \n",
            "\n",
            "    Cliente     Produto  Valor        Data\n",
            "0       Ana    Notebook   3000  2023-01-15\n",
            "1     Bruno  Smartphone   2000  2023-01-16\n",
            "2    Carlos    Notebook   3000         NaN\n",
            "3     Diana      Tablet   1500  2023-02-10\n",
            "4   Eduarda    Notebook   3000  2023-02-10\n",
            "5       NaN  Smartphone   2000  2023-01-16\n",
            "6     Fábio         NaN   1500  2023-02-15\n",
            "7  Gabriela      Tablet   1500  2023-02-16\n",
            "8      Jose      Tablet   1500  2023-03-01\n",
            "9     Paula    Notebook   4000  2023-03-02 \n",
            "\n"
          ]
        }
      ]
    },
    {
      "cell_type": "markdown",
      "source": [
        "## Junção de *dataframe*s"
      ],
      "metadata": {
        "id": "_79PYzDyTMC4"
      }
    },
    {
      "cell_type": "markdown",
      "source": [
        "A função `merge()` habilita junções no estilo SQL entre colunas."
      ],
      "metadata": {
        "id": "bJu5nOW6LxX8"
      }
    },
    {
      "cell_type": "code",
      "source": [
        "import pandas as pd\n",
        "\n",
        "# DataFrame à esquerda\n",
        "esquerda = pd.DataFrame({\"produto\": [\"maçã\", \"pera\", \"banana\", \"uva\"], \"quantidade\": [3, 5, 4, 2]})\n",
        "\n",
        "# DataFrame à direita\n",
        "direita = pd.DataFrame({\"produto\": [\"pera\", \"banana\", \"maçã\"], \"preço\": [4.50, 2.34, 3.25]})\n",
        "\n",
        "print(\"esquerda:\\n\", esquerda)\n",
        "print(\"\\ndireita:\\n\", direita)\n",
        "\n",
        "# 1) Mesclando os DataFrames\n",
        "## O produto \"uva\" está presente em esquerda, mas não em direita.\n",
        "## Por padrão esse produto é excluido por não ter correspondencia\n",
        "resultado = pd.merge(esquerda, direita, on=\"produto\")\n",
        "print(\"\\nResultado da junção 1:\\n\", resultado)\n",
        "\n",
        "# 2) Mesclando os DataFrames (how='left')\n",
        "## Neste caso, o valor na coluna \"preço\" para essa linha é NaN\n",
        "resultado = pd.merge(esquerda, direita, on=\"produto\", how='left')\n",
        "print(\"\\nResultado da junção 2:\\n\", resultado)"
      ],
      "metadata": {
        "id": "HIE1O2LNL-yc",
        "colab": {
          "base_uri": "https://localhost:8080/"
        },
        "outputId": "b33d8a3a-9a29-46ca-9bcf-91dc26c9245e"
      },
      "execution_count": null,
      "outputs": [
        {
          "output_type": "stream",
          "name": "stdout",
          "text": [
            "esquerda:\n",
            "   produto  quantidade\n",
            "0    maçã           3\n",
            "1    pera           5\n",
            "2  banana           4\n",
            "3     uva           2\n",
            "\n",
            "direita:\n",
            "   produto  preço\n",
            "0    pera   4.50\n",
            "1  banana   2.34\n",
            "2    maçã   3.25\n",
            "\n",
            "Resultado da junção 1:\n",
            "   produto  quantidade  preço\n",
            "0    maçã           3   3.25\n",
            "1    pera           5   4.50\n",
            "2  banana           4   2.34\n",
            "\n",
            "Resultado da junção 2:\n",
            "   produto  quantidade  preço\n",
            "0    maçã           3   3.25\n",
            "1    pera           5   4.50\n",
            "2  banana           4   2.34\n",
            "3     uva           2    NaN\n"
          ]
        }
      ]
    },
    {
      "cell_type": "markdown",
      "source": [
        "Outro exemplo, agora com 2 chaves."
      ],
      "metadata": {
        "id": "dPRs8hxR4Ml_"
      }
    },
    {
      "cell_type": "code",
      "source": [
        "import pandas as pd\n",
        "\n",
        "# DataFrame à esquerda com mais um atributo (fornecedor)\n",
        "esquerda = pd.DataFrame({\n",
        "    \"produto\": [\"maçã\", \"pera\", \"banana\", \"maçã\", \"banana\"],\n",
        "    \"cor\": [\"vermelha\", \"verde\", \"amarela\", \"verde\", \"amarela\"],\n",
        "    \"quantidade\": [3, 5, 4, 6, 7],\n",
        "    \"fornecedor\": [\"Fornecedor A\", \"Fornecedor B\", \"Fornecedor C\", \"Fornecedor C\", \"Fornecedor A\"]\n",
        "})\n",
        "\n",
        "# DataFrame à direita\n",
        "direita = pd.DataFrame({\n",
        "    \"produto\": [\"maçã\", \"pera\", \"banana\"],\n",
        "    \"cor\": [\"vermelha\", \"verde\", \"amarela\"],\n",
        "    \"preço\": [3.25, 4.50, 2.34]\n",
        "})\n",
        "\n",
        "print(\"esquerda:\\n\", esquerda)\n",
        "print(\"\\ndireita:\\n\", direita)\n",
        "\n",
        "# Mesclando os DataFrames com mais de uma chave (produto, cor) e considerando o fornecedor\n",
        "resultado = pd.merge(esquerda, direita, on=[\"produto\", \"cor\"], how=\"left\")\n",
        "print(\"\\nResultado da junção com múltiplas chaves (produto, cor) e fornecedor:\\n\", resultado)\n"
      ],
      "metadata": {
        "id": "kkCohIV73R3s",
        "colab": {
          "base_uri": "https://localhost:8080/"
        },
        "outputId": "dfc83cf0-fa12-41c5-dcb5-cd30d892d824"
      },
      "execution_count": null,
      "outputs": [
        {
          "output_type": "stream",
          "name": "stdout",
          "text": [
            "esquerda:\n",
            "   produto       cor  quantidade    fornecedor\n",
            "0    maçã  vermelha           3  Fornecedor A\n",
            "1    pera     verde           5  Fornecedor B\n",
            "2  banana   amarela           4  Fornecedor C\n",
            "3    maçã     verde           6  Fornecedor C\n",
            "4  banana   amarela           7  Fornecedor A\n",
            "\n",
            "direita:\n",
            "   produto       cor  preço\n",
            "0    maçã  vermelha   3.25\n",
            "1    pera     verde   4.50\n",
            "2  banana   amarela   2.34\n",
            "\n",
            "Resultado da junção com múltiplas chaves (produto, cor) e fornecedor:\n",
            "   produto       cor  quantidade    fornecedor  preço\n",
            "0    maçã  vermelha           3  Fornecedor A   3.25\n",
            "1    pera     verde           5  Fornecedor B   4.50\n",
            "2  banana   amarela           4  Fornecedor C   2.34\n",
            "3    maçã     verde           6  Fornecedor C    NaN\n",
            "4  banana   amarela           7  Fornecedor A   2.34\n"
          ]
        }
      ]
    },
    {
      "cell_type": "markdown",
      "source": [
        "## Agrupamento"
      ],
      "metadata": {
        "id": "0qIW3VUjTnUf"
      }
    },
    {
      "cell_type": "markdown",
      "source": [
        "Por “agrupamento” se refere a um processo que envolve um ou mais dos seguintes passos:\n",
        "\n",
        "- **particionar** os dados em grupos basedos em algum critério;\n",
        "\n",
        "- **aplicar** uma função em cada grupo independentemente;\n",
        "\n",
        "- **combinar** os resultados em uma estrutura de dados."
      ],
      "metadata": {
        "id": "7y5nOBzuMEFH"
      }
    },
    {
      "cell_type": "code",
      "source": [
        "import pandas as pd\n",
        "import numpy as np\n",
        "\n",
        "# Criando o DataFrame simulando vendas de banana e maça por regiões\n",
        "df = pd.DataFrame(\n",
        "    {\n",
        "        \"Produto\": [\"Maçã\", \"Banana\", \"Maçã\", \"Banana\", \"Maçã\", \"Banana\", \"Maçã\", \"Maçã\"],\n",
        "        \"Região\": [\"Norte\", \"Norte\", \"Sul\", \"Sul\", \"Leste\", \"Leste\", \"Norte\", \"Leste\"],\n",
        "        \"Vendas\": np.abs(np.random.randn(8)),  # Valores numéricos aleatórios representando as vendas\n",
        "        \"Lucro\": np.random.randn(8),   # Valores numéricos aleatórios representando o lucro\n",
        "    }\n",
        ")\n",
        "\n",
        "print(df)"
      ],
      "metadata": {
        "id": "cruBRDEnOGc_",
        "colab": {
          "base_uri": "https://localhost:8080/"
        },
        "outputId": "750b685c-e819-4d0b-fe5a-aacc2678ede6"
      },
      "execution_count": null,
      "outputs": [
        {
          "output_type": "stream",
          "name": "stdout",
          "text": [
            "  Produto Região    Vendas     Lucro\n",
            "0    Maçã  Norte  0.402862 -0.118198\n",
            "1  Banana  Norte  0.836102 -0.561212\n",
            "2    Maçã    Sul  0.989555  0.124458\n",
            "3  Banana    Sul  0.241646  1.240817\n",
            "4    Maçã  Leste  0.100956 -1.282637\n",
            "5  Banana  Leste  1.362776 -1.694917\n",
            "6    Maçã  Norte  1.035115 -1.000123\n",
            "7    Maçã  Leste  2.018766  1.942012\n"
          ]
        }
      ]
    },
    {
      "cell_type": "markdown",
      "source": [
        "Exemplo, agrupando por uma coluna, selecionando outras colunas e aplicando a função `sum()` aos dados resultantes:"
      ],
      "metadata": {
        "id": "kH-y4IfQOX0j"
      }
    },
    {
      "cell_type": "code",
      "source": [
        "print(\"\\nAgrupamento por 'Produto' e soma de Vendas e Lucro:\")\n",
        "print(df.groupby(\"Produto\")[[\"Vendas\", \"Lucro\"]].sum())"
      ],
      "metadata": {
        "id": "v7eQ_4ZaOXLM",
        "colab": {
          "base_uri": "https://localhost:8080/"
        },
        "outputId": "21dbe424-7d2f-42a1-f30e-b817408ed95b"
      },
      "execution_count": null,
      "outputs": [
        {
          "output_type": "stream",
          "name": "stdout",
          "text": [
            "\n",
            "Agrupamento por 'Produto' e soma de Vendas e Lucro:\n",
            "           Vendas     Lucro\n",
            "Produto                    \n",
            "Banana   2.440524 -1.015313\n",
            "Maçã     4.547253 -0.334487\n"
          ]
        }
      ]
    },
    {
      "cell_type": "markdown",
      "source": [
        "Agrupar por múltiplas colunas forma um `MultiIndex`."
      ],
      "metadata": {
        "id": "0T6d1GUpOzwE"
      }
    },
    {
      "cell_type": "code",
      "source": [
        "# Agrupando por Produto e Região e somando as colunas 'Vendas' e 'Lucro'\n",
        "print(\"\\nAgrupamento por 'Produto' e 'Região' e soma de Vendas e Lucro:\")\n",
        "print(df.groupby([\"Produto\", \"Região\"]).sum())"
      ],
      "metadata": {
        "id": "tdjPZPBgPV6y",
        "colab": {
          "base_uri": "https://localhost:8080/"
        },
        "outputId": "9881ee1c-f75c-4203-be3c-ad030b946c02"
      },
      "execution_count": null,
      "outputs": [
        {
          "output_type": "stream",
          "name": "stdout",
          "text": [
            "\n",
            "Agrupamento por 'Produto' e 'Região' e soma de Vendas e Lucro:\n",
            "                  Vendas     Lucro\n",
            "Produto Região                    \n",
            "Banana  Leste   1.362776 -1.694917\n",
            "        Norte   0.836102 -0.561212\n",
            "        Sul     0.241646  1.240817\n",
            "Maçã    Leste   2.119722  0.659376\n",
            "        Norte   1.437976 -1.118320\n",
            "        Sul     0.989555  0.124458\n"
          ]
        }
      ]
    },
    {
      "cell_type": "markdown",
      "source": [
        "## Exercício 3\n",
        "\n",
        "1. Para o código abaixo use a função `merge()` para combinar os dois DataFrames com base na coluna `Produto`.\n",
        "  * E depois `how=\"outer\"` (união de todos os dados).  \n",
        "  * Utilize primeiramente `how=\"inner\"` (interseção entre os DataFrames).\n",
        "\n",
        "2. Para a ultima junção, faça um agrupamento pela coluna `Produto` e então selecione as colunas `Quantidade` e `Preço` e some elas.\n",
        "\n",
        "```python\n",
        "import pandas as pd\n",
        "\n",
        "# DataFrame de produtos vendidos\n",
        "vendas = pd.DataFrame({\n",
        "    \"Cliente\": [\"Ana\", \"Bruno\", \"Carlos\", \"Diana\", \"Eduarda\", \"Fábio\", \"Gabriela\"],\n",
        "    \"Produto\": [\"Notebook\", \"Smartphone\", \"Notebook\", \"Tablet\", \"Notebook\", \"Mouse\", \"Smartphone\"],\n",
        "    \"Data\": [\"2023-01-15\", \"2023-01-16\", \"2023-01-16\", \"2023-02-10\", \"2023-02-10\", \"2023-02-15\", \"2023-02-16\"],\n",
        "    \"Quantidade\": [1, 2, 1, 1, 3, 2, 1],\n",
        "})\n",
        "\n",
        "# DataFrame com os preços dos produtos\n",
        "precos = pd.DataFrame({\n",
        "    \"Produto\": [\"Notebook\", \"Smartphone\", \"Tablet\"],\n",
        "    \"Preço\": [3000, 2000, 1500],\n",
        "})\n",
        "\n",
        "print(\"DataFrame de vendas:\")\n",
        "print(vendas)\n",
        "\n",
        "print(\"\\nDataFrame de preços:\")\n",
        "print(precos)\n",
        "```"
      ],
      "metadata": {
        "id": "HfK_eJmL23wm"
      }
    },
    {
      "cell_type": "markdown",
      "source": [
        "## Reorganização"
      ],
      "metadata": {
        "id": "i1b4S23cTwK6"
      }
    },
    {
      "cell_type": "markdown",
      "source": [
        "Para exemplos, vamos primeiramente criar um DataFrame para análise de dados relacionados a vendas e custos.\n",
        "\n",
        "Este DataFrame será criado com um índice hierárquico de duas categorias:\n",
        "* Categoria (Fruta, Legume, etc.)\n",
        "* Métrica (Venda, Custo)."
      ],
      "metadata": {
        "id": "B5yHj1WKIClQ"
      }
    },
    {
      "cell_type": "code",
      "source": [
        "import pandas as pd\n",
        "import numpy as np\n",
        "\n",
        "# MultiIndex com dois níveis: Categoria e Métrica\n",
        "arrays = [\n",
        "    [\"Fruta\", \"Fruta\", \"Legume\", \"Legume\", \"Bebida\", \"Bebida\", \"Grão\", \"Grão\"],\n",
        "    [\"Venda\", \"Custo\", \"Venda\", \"Custo\", \"Venda\", \"Custo\", \"Venda\", \"Custo\"],\n",
        "]\n",
        "\n",
        "index = pd.MultiIndex.from_arrays(arrays, names=[\"Categoria\", \"Métrica\"])\n",
        "\n",
        "# Criando um DataFrame com valores aleatórios para Vendas e Custos\n",
        "df = pd.DataFrame(abs(np.random.randn(8, 3)), index=index, columns=[\"Janeiro\", \"Fevereiro\", \"Março\"])\n",
        "print(\"DataFrame Original:\\n\")\n",
        "print(df)"
      ],
      "metadata": {
        "id": "qh11-mX2GbQ0",
        "colab": {
          "base_uri": "https://localhost:8080/"
        },
        "outputId": "fec3cb7e-01d0-4f94-e539-ac1646bd3891"
      },
      "execution_count": null,
      "outputs": [
        {
          "output_type": "stream",
          "name": "stdout",
          "text": [
            "DataFrame Original:\n",
            "\n",
            "                    Janeiro  Fevereiro     Março\n",
            "Categoria Métrica                               \n",
            "Fruta     Venda    1.219529   0.338334  0.402502\n",
            "          Custo    0.257627   0.172249  0.555268\n",
            "Legume    Venda    0.952821   0.603647  0.623190\n",
            "          Custo    1.423351   0.407285  0.628515\n",
            "Bebida    Venda    0.466751   0.222750  0.125841\n",
            "          Custo    0.231922   0.211247  1.242865\n",
            "Grão      Venda    1.973443   1.005019  0.698037\n",
            "          Custo    0.336547   1.222737  0.201677\n"
          ]
        }
      ]
    },
    {
      "cell_type": "markdown",
      "source": [
        "### Empilhamento"
      ],
      "metadata": {
        "id": "X0S2fRWEPWpw"
      }
    },
    {
      "cell_type": "markdown",
      "source": [
        "* A função `stack()` modifica a distribuição das células para criar um formato vertical.\n",
        "\n",
        "* A função `unstack()` faz o inverso do `stack()`, retorna o formato original.\n",
        "\n",
        "  Como temos dois níveis de indices, também podemos utilizar:\n",
        "  * `unstack(0)` para reorganiza pelo primeiro indice (Categoria) como colunas;\n",
        "  * `unstack(1)` para reorganiza pelo segundo indice (Métrica) como colunas.  "
      ],
      "metadata": {
        "id": "krp3li9MJR5y"
      }
    },
    {
      "cell_type": "code",
      "source": [
        "# Empilhando as colunas para transformar em um formato mais vertical\n",
        "stacked = df.stack()\n",
        "print(\"\\nDataFrame Empilhado (com stack):\\n\")\n",
        "print(stacked)\n",
        "\n",
        "# Desempilhando para reorganizar os dados de volta ao formato tabular\n",
        "unstacked = stacked.unstack()\n",
        "print(\"\\n\\nDataFrame Desempilhado (com unstack):\\n\")\n",
        "print(unstacked)\n",
        "\n",
        "# Desempilhando com foco no nível 0 (Categoria)\n",
        "unstacked_level0 = stacked.unstack(0)\n",
        "print(\"\\n\\nDataFrame Desempilhado por 'Categoria' (nível 0):\\n\")\n",
        "print(unstacked_level0)\n",
        "\n",
        "# Desempilhando com foco no nível 1 (Métrica)\n",
        "unstacked_level1 = stacked.unstack(1)\n",
        "print(\"\\n\\nDataFrame Desempilhado por 'Métrica' (nível 1):\\n\")\n",
        "print(unstacked_level1)\n"
      ],
      "metadata": {
        "id": "9cEUxrTFGki6",
        "colab": {
          "base_uri": "https://localhost:8080/"
        },
        "outputId": "df4260e4-4447-4948-da91-684457500784"
      },
      "execution_count": null,
      "outputs": [
        {
          "output_type": "stream",
          "name": "stdout",
          "text": [
            "\n",
            "DataFrame Empilhado (com stack):\n",
            "\n",
            "Categoria  Métrica           \n",
            "Fruta      Venda    Janeiro      1.219529\n",
            "                    Fevereiro    0.338334\n",
            "                    Março        0.402502\n",
            "           Custo    Janeiro      0.257627\n",
            "                    Fevereiro    0.172249\n",
            "                    Março        0.555268\n",
            "Legume     Venda    Janeiro      0.952821\n",
            "                    Fevereiro    0.603647\n",
            "                    Março        0.623190\n",
            "           Custo    Janeiro      1.423351\n",
            "                    Fevereiro    0.407285\n",
            "                    Março        0.628515\n",
            "Bebida     Venda    Janeiro      0.466751\n",
            "                    Fevereiro    0.222750\n",
            "                    Março        0.125841\n",
            "           Custo    Janeiro      0.231922\n",
            "                    Fevereiro    0.211247\n",
            "                    Março        1.242865\n",
            "Grão       Venda    Janeiro      1.973443\n",
            "                    Fevereiro    1.005019\n",
            "                    Março        0.698037\n",
            "           Custo    Janeiro      0.336547\n",
            "                    Fevereiro    1.222737\n",
            "                    Março        0.201677\n",
            "dtype: float64\n",
            "\n",
            "\n",
            "DataFrame Desempilhado (com unstack):\n",
            "\n",
            "                    Janeiro  Fevereiro     Março\n",
            "Categoria Métrica                               \n",
            "Bebida    Custo    0.231922   0.211247  1.242865\n",
            "          Venda    0.466751   0.222750  0.125841\n",
            "Fruta     Custo    0.257627   0.172249  0.555268\n",
            "          Venda    1.219529   0.338334  0.402502\n",
            "Grão      Custo    0.336547   1.222737  0.201677\n",
            "          Venda    1.973443   1.005019  0.698037\n",
            "Legume    Custo    1.423351   0.407285  0.628515\n",
            "          Venda    0.952821   0.603647  0.623190\n",
            "\n",
            "\n",
            "DataFrame Desempilhado por 'Categoria' (nível 0):\n",
            "\n",
            "Categoria            Bebida     Fruta      Grão    Legume\n",
            "Métrica                                                  \n",
            "Custo   Janeiro    0.231922  0.257627  0.336547  1.423351\n",
            "        Fevereiro  0.211247  0.172249  1.222737  0.407285\n",
            "        Março      1.242865  0.555268  0.201677  0.628515\n",
            "Venda   Janeiro    0.466751  1.219529  1.973443  0.952821\n",
            "        Fevereiro  0.222750  0.338334  1.005019  0.603647\n",
            "        Março      0.125841  0.402502  0.698037  0.623190\n",
            "\n",
            "\n",
            "DataFrame Desempilhado por 'Métrica' (nível 1):\n",
            "\n",
            "Métrica                 Custo     Venda\n",
            "Categoria                              \n",
            "Bebida    Janeiro    0.231922  0.466751\n",
            "          Fevereiro  0.211247  0.222750\n",
            "          Março      1.242865  0.125841\n",
            "Fruta     Janeiro    0.257627  1.219529\n",
            "          Fevereiro  0.172249  0.338334\n",
            "          Março      0.555268  0.402502\n",
            "Grão      Janeiro    0.336547  1.973443\n",
            "          Fevereiro  1.222737  1.005019\n",
            "          Março      0.201677  0.698037\n",
            "Legume    Janeiro    1.423351  0.952821\n",
            "          Fevereiro  0.407285  0.603647\n",
            "          Março      0.628515  0.623190\n"
          ]
        }
      ]
    },
    {
      "cell_type": "markdown",
      "source": [
        "### Pivot tables\n",
        "\n",
        "A função `pivot_table` permite:\n",
        "* resumir as informações contidas em um DataFrame;\n",
        "* personalizar a forma como os dados são organizados;\n",
        "* utilizar agregações complexas e funções customizadas.\n",
        "\n",
        "**Sintaxe:**\n",
        "\n",
        "```python\n",
        "pd.pivot_table(data, values=None, index=None, columns=None, aggfunc=\"mean\",\n",
        " fill_value=None, margins=False, margins_name=\"All\", dropna=True, observed=False, sort=True)\n",
        "```\n",
        "\n",
        "Principais argumentos:\n",
        "\n",
        "* `data`: O DataFrame a partir do qual a tabela dinâmica será criada.\n",
        "* `values`: A(s) coluna(s) cujos valores você deseja agregar.\n",
        "* `index`: A(s) coluna(s) que formarão os índices da tabela.\n",
        "* `columns`: A(s) coluna(s) que formarão as colunas da tabela.\n",
        "* `aggfunc`: A função de agregação a ser usada. O padrão é \"mean\", mas você pode usar outras como \"sum\", \"count\", \"max\", \"min\", ou funções personalizadas. Pode ser uma lista de funções.\n",
        "* `fill_value`: Valor para preencher células vazias ou NaN.\n",
        "\n",
        "Veja os exemplos."
      ],
      "metadata": {
        "id": "qntcERoRqh3B"
      }
    },
    {
      "cell_type": "code",
      "source": [
        "import pandas as pd\n",
        "import numpy as np\n",
        "\n",
        "# Criando o DataFrame\n",
        "dados = {\n",
        "    \"Categoria\": [\"Eletrônicos\", \"Eletrônicos\", \"Eletrodomésticos\", \"Eletrodomésticos\", \"Móveis\", \"Móveis\"],\n",
        "    \"Produto\": [\"Notebook\", \"Smartphone\", \"Geladeira\", \"Fogão\", \"Sofá\", \"Cama\"],\n",
        "    \"Vendas\": [5000, 3000, 4000, 2500, 2000, 1500],\n",
        "    \"Ano\": [2023, 2023, 2023, 2023, 2024, 2024]\n",
        "}\n",
        "\n",
        "df = pd.DataFrame(dados)\n",
        "print(df)"
      ],
      "metadata": {
        "id": "6-LgmCA7O5CB",
        "colab": {
          "base_uri": "https://localhost:8080/"
        },
        "outputId": "0548bd4b-e00e-4cf5-930f-059631133713"
      },
      "execution_count": null,
      "outputs": [
        {
          "output_type": "stream",
          "name": "stdout",
          "text": [
            "          Categoria     Produto  Vendas   Ano\n",
            "0       Eletrônicos    Notebook    5000  2023\n",
            "1       Eletrônicos  Smartphone    3000  2023\n",
            "2  Eletrodomésticos   Geladeira    4000  2023\n",
            "3  Eletrodomésticos       Fogão    2500  2023\n",
            "4            Móveis        Sofá    2000  2024\n",
            "5            Móveis        Cama    1500  2024\n"
          ]
        }
      ]
    },
    {
      "cell_type": "markdown",
      "source": [
        "**1. Agregando por uma única coluna:**\n",
        "\n",
        "Vamos organizar as vendas por categoria usando pivot_table."
      ],
      "metadata": {
        "id": "LOr2lQvQkILn"
      }
    },
    {
      "cell_type": "code",
      "source": [
        "# Vendas totais por Categoria\n",
        "tabela = pd.pivot_table(df, values=\"Vendas\", index=\"Categoria\", aggfunc=\"sum\")\n",
        "print(tabela)\n"
      ],
      "metadata": {
        "id": "mHbxjEGDkEHU",
        "colab": {
          "base_uri": "https://localhost:8080/"
        },
        "outputId": "26a759ae-8500-4c24-b8a3-1359a7eda8f8"
      },
      "execution_count": null,
      "outputs": [
        {
          "output_type": "stream",
          "name": "stdout",
          "text": [
            "                  Vendas\n",
            "Categoria               \n",
            "Eletrodomésticos    6500\n",
            "Eletrônicos         8000\n",
            "Móveis              3500\n"
          ]
        }
      ]
    },
    {
      "cell_type": "markdown",
      "source": [
        "**2. Selecionando colunas:**"
      ],
      "metadata": {
        "id": "EZY2BJWQT-Y7"
      }
    },
    {
      "cell_type": "code",
      "source": [
        "# Vendas totais por Categoria e Ano\n",
        "tabela = pd.pivot_table(df, values=\"Vendas\", index=\"Categoria\",\n",
        "                        columns=\"Ano\", aggfunc=\"sum\", fill_value=0)\n",
        "print(tabela)\n",
        "\n",
        "print(\"\\n\")\n",
        "\n",
        "# Vendas totais por Categoria e Ano\n",
        "tabela = pd.pivot_table(df, values=\"Vendas\", index=\"Categoria\",\n",
        "                        columns=[\"Ano\",\"Produto\"], aggfunc=\"sum\", fill_value=0)\n",
        "print(tabela)\n"
      ],
      "metadata": {
        "id": "o629Jcv0khzK",
        "colab": {
          "base_uri": "https://localhost:8080/"
        },
        "outputId": "4085b3b2-d2d9-4d8e-d509-9b0a221bcb07"
      },
      "execution_count": null,
      "outputs": [
        {
          "output_type": "stream",
          "name": "stdout",
          "text": [
            "Ano               2023  2024\n",
            "Categoria                   \n",
            "Eletrodomésticos  6500     0\n",
            "Eletrônicos       8000     0\n",
            "Móveis               0  3500\n",
            "\n",
            "\n",
            "Ano               2023                                2024      \n",
            "Produto          Fogão Geladeira Notebook Smartphone  Cama  Sofá\n",
            "Categoria                                                       \n",
            "Eletrodomésticos  2500      4000        0          0     0     0\n",
            "Eletrônicos          0         0     5000       3000     0     0\n",
            "Móveis               0         0        0          0  1500  2000\n"
          ]
        }
      ]
    },
    {
      "cell_type": "markdown",
      "source": [
        "**3. Adicionando margens (Totais):**"
      ],
      "metadata": {
        "id": "6gzyjdfglM3w"
      }
    },
    {
      "cell_type": "code",
      "source": [
        "# Incluindo uma linha/coluna de total\n",
        "tabela = pd.pivot_table(df, values=\"Vendas\", index=\"Categoria\", columns=\"Ano\",\n",
        "        aggfunc=\"sum\", fill_value=0, margins=True, margins_name=\"Total Geral\")\n",
        "print(tabela)\n"
      ],
      "metadata": {
        "id": "kY_U7Bz2lRfT",
        "colab": {
          "base_uri": "https://localhost:8080/"
        },
        "outputId": "98ee3af2-ee4c-4dd9-ca79-8208c59f1db8"
      },
      "execution_count": null,
      "outputs": [
        {
          "output_type": "stream",
          "name": "stdout",
          "text": [
            "Ano                2023  2024  Total Geral\n",
            "Categoria                                 \n",
            "Eletrodomésticos   6500     0         6500\n",
            "Eletrônicos        8000     0         8000\n",
            "Móveis                0  3500         3500\n",
            "Total Geral       14500  3500        18000\n"
          ]
        }
      ]
    },
    {
      "cell_type": "markdown",
      "source": [
        "**4. Pivot Table com múltiplos índices e colunas:**"
      ],
      "metadata": {
        "id": "5Znxl3eall8z"
      }
    },
    {
      "cell_type": "code",
      "source": [
        "# Pivot Table com múltiplos índices e colunas\n",
        "tabela = pd.pivot_table(df, values=\"Vendas\", index=[\"Categoria\", \"Produto\"],\n",
        "                        columns=\"Ano\", aggfunc=\"sum\", fill_value=0)\n",
        "print(tabela)\n"
      ],
      "metadata": {
        "id": "F7NET20ulpnM",
        "colab": {
          "base_uri": "https://localhost:8080/"
        },
        "outputId": "55adb1f9-bf32-42a6-97a9-4bc3d3efe51e"
      },
      "execution_count": null,
      "outputs": [
        {
          "output_type": "stream",
          "name": "stdout",
          "text": [
            "Ano                          2023  2024\n",
            "Categoria        Produto               \n",
            "Eletrodomésticos Fogão       2500     0\n",
            "                 Geladeira   4000     0\n",
            "Eletrônicos      Notebook    5000     0\n",
            "                 Smartphone  3000     0\n",
            "Móveis           Cama           0  1500\n",
            "                 Sofá           0  2000\n"
          ]
        }
      ]
    },
    {
      "cell_type": "markdown",
      "source": [
        "### Exercício 4\n",
        "\n",
        "Considere o seguinte conjunto de dados:\n",
        "```python\n",
        "import pandas as pd\n",
        "import numpy as np\n",
        "\n",
        "# DataFrame para os exercícios\n",
        "dados = {\n",
        "    \"Produto\": [\"Notebook\", \"Notebook\", \"Smartphone\", \"Smartphone\", \"Tablet\", \"Tablet\"],\n",
        "    \"Região\": [\"Norte\", \"Sul\", \"Norte\", \"Sul\", \"Norte\", \"Sul\"],\n",
        "    \"Ano\": [2023, 2023, 2024, 2024, 2023, 2024],\n",
        "    \"Vendas\": [5000, 4500, 3000, 3500, 2000, 2500],\n",
        "    \"Lucro\": [1000, 900, 800, 850, 300, 400],\n",
        "}\n",
        "\n",
        "df = pd.DataFrame(dados)\n",
        "print(df)\n",
        "```\n",
        "\n",
        "Então:\n",
        "\n",
        "1. Aplique `stack()` no DataFrame original e observe como ele transforma as colunas em um índice.\n",
        "\n",
        "  Pergunta: Qual a principal diferença entre o DataFrame antes e depois de usar `stack()`?\n",
        "\n",
        "2. A partir do resultado de `stack()`, use `unstack()` para reorganizar os dados. Experimente utilizar os níveis de índice (0, 1 ou nomeados).\n",
        "\n",
        "3. Crie uma tabela dinâmica que mostre o lucro médio (Lucro) por \"Produto\" e \"Região\". Use `aggfunc=\"mean\"`.\n",
        "\n",
        "  Pergunta: Como a função de agregação afeta os dados?\n",
        "\n",
        "4. Adicione margens (totais) à tabela dinâmica do exercício anterior, usando o parâmetro `margins=True`.   "
      ],
      "metadata": {
        "id": "Y7RQk2JCndFi"
      }
    },
    {
      "cell_type": "markdown",
      "source": [
        "## Séries temporais"
      ],
      "metadata": {
        "id": "i-sVOmOXUTDq"
      }
    },
    {
      "cell_type": "markdown",
      "source": [
        "*Pandas* é uma das principais bibliotecas utilizadas para manipulação de séries temporais por possuir diversas funcionalidades úteis para esse tipo de dados.\n",
        "\n",
        "Em *Pandas* uma série temporal é representada por um objeto do tipo `Series` ou `DataFrame` indexadas por um tipo de objeto especifico para trabalhar com datas, o `datetime`."
      ],
      "metadata": {
        "id": "3eccDpWHrkUp"
      }
    },
    {
      "cell_type": "markdown",
      "source": [
        "  **Objetos `datetime` no Python**\n",
        "\n",
        "  O módulo `datetime` do Python é utilizado para manipular datas e horários. Ele fornece várias classes úteis para criar, modificar, comparar e realizar cálculos com datas e tempos.\n",
        "\n",
        "  Principais Classes do Módulo `datetime`:\n",
        "\n",
        "  * `datetime.date`: Representa uma data (ano, mês e dia).\n",
        "  * `datetime.time`: Representa um horário (hora, minuto, segundo e microssegundo).\n",
        "  * `datetime.datetime`: Combina data e horário.\n",
        "  * `datetime.timedelta`: Representa diferenças entre datas ou tempos.\n",
        "  * `datetime.tzinfo` e `datetime.timezone`: Representam informações de fuso horário"
      ],
      "metadata": {
        "id": "gAMLO4OBjJEB"
      }
    },
    {
      "cell_type": "code",
      "source": [
        "## Exemplos datetime\n",
        "\n",
        "import datetime\n",
        "\n",
        "# Criando uma data\n",
        "data = datetime.date(2024, 11, 29)\n",
        "print(\"Data Criada:\", data)\n",
        "\n",
        "# Acessando componentes\n",
        "print(\"Ano:\", data.year)\n",
        "print(\"Mês:\", data.month)\n",
        "print(\"Dia:\", data.day)\n",
        "\n",
        "# Criando um horário\n",
        "horario = datetime.time(14, 30, 45)\n",
        "print(\"\\nHorário Criado:\", horario)\n",
        "\n",
        "# Acessando componentes\n",
        "print(\"Hora:\", horario.hour)\n",
        "print(\"Minuto:\", horario.minute)\n",
        "print(\"Segundo:\", horario.second)\n",
        "\n",
        "# Criando um objeto datetime\n",
        "data_hora = datetime.datetime(2024, 11, 29, 14, 30, 45)\n",
        "print(\"\\nData e Hora Criadas:\", data_hora)\n",
        "\n",
        "# Acessando componentes\n",
        "print(\"Ano:\", data_hora.year)\n",
        "print(\"Hora:\", data_hora.hour)\n",
        "\n",
        "# Convertendo string para datetime\n",
        "# Principais códigos de formatação:\n",
        "# %Y: Ano com quatro dígitos.\n",
        "# %m: Mês (01-12).\n",
        "# %d: Dia do mês (01-31).\n",
        "# %H: Hora (00-23).\n",
        "# %M: Minuto (00-59).\n",
        "# %S: Segundo (00-59).\n",
        "\n",
        "data_string = \"29/11/2024 14:30:45\"\n",
        "data_convertida = datetime.datetime.strptime(data_string, \"%d/%m/%Y %H:%M:%S\")\n",
        "\n",
        "print(\"\\nString Convertida para datetime:\", data_convertida)"
      ],
      "metadata": {
        "id": "tTQeC829pXRQ",
        "colab": {
          "base_uri": "https://localhost:8080/"
        },
        "outputId": "6e077a30-47a2-4503-902c-45e9c49cc195"
      },
      "execution_count": null,
      "outputs": [
        {
          "output_type": "stream",
          "name": "stdout",
          "text": [
            "Data Criada: 2024-11-29\n",
            "Ano: 2024\n",
            "Mês: 11\n",
            "Dia: 29\n",
            "\n",
            "Horário Criado: 14:30:45\n",
            "Hora: 14\n",
            "Minuto: 30\n",
            "Segundo: 45\n",
            "\n",
            "Data e Hora Criadas: 2024-11-29 14:30:45\n",
            "Ano: 2024\n",
            "Hora: 14\n",
            "\n",
            "String Convertida para datetime: 2024-11-29 14:30:45\n"
          ]
        }
      ]
    },
    {
      "cell_type": "markdown",
      "source": [
        "**1. Criando Séries Temporais**\n",
        "\n",
        "Podemos criar séries temporais usando o `pd.date_range()` e trabalhar diretamente com objetos `datetime`."
      ],
      "metadata": {
        "id": "NfhilXi8shY-"
      }
    },
    {
      "cell_type": "code",
      "source": [
        "import pandas as pd\n",
        "import numpy as np\n",
        "\n",
        "\n",
        "####### serie diaria ###########################################################\n",
        "\n",
        "# Gerando uma sequência de dias\n",
        "dias = pd.date_range(start=\"2023-01-02\", end=\"2023-01-20\", freq=\"D\")\n",
        "print(\"Sequência de dias:\\n\", dias)\n",
        "\n",
        "# Criando uma série temporal diária\n",
        "serie_diaria = pd.Series(np.random.randint(1, 100, len(dias)), index=dias)\n",
        "print(\"\\nSérie diaria:\\n\", serie_diaria)\n",
        "\n",
        "################################################################################\n",
        "\n",
        "####### serie semanal ##########################################################\n",
        "\n",
        "# Gerando uma sequência de semanas\n",
        "semanas = pd.date_range(\"2023-01-01\", \"2023-03-01\", freq=\"W\")\n",
        "\n",
        "# Criando uma série temporal semanal\n",
        "serie_semanal = pd.Series(np.random.randint(1, 100, len(semanas)), index=semanas)\n",
        "print(\"\\nSérie semanal:\\n\", serie_semanal)\n",
        "\n",
        "################################################################################\n",
        "\n",
        "####### serie horária ##########################################################\n",
        "\n",
        "# Frequência por horas\n",
        "horas = pd.date_range(\"2023-01-01\", \"2023-01-02\", freq=\"h\")\n",
        "\n",
        "# Criando uma série temporal horaria\n",
        "serie_horaria = pd.Series(np.random.randint(1, 100, len(horas)), index=horas)\n",
        "print(\"\\nSérie horaria:\\n\", serie_horaria)\n",
        "\n",
        "################################################################################\n"
      ],
      "metadata": {
        "id": "RIaT-auWuRvq"
      },
      "execution_count": null,
      "outputs": []
    },
    {
      "cell_type": "markdown",
      "source": [
        "**2. Manipulando Datas como Índices**\n",
        "\n",
        "As colunas de datas ou índices permitem acessar, filtrar e realizar operações."
      ],
      "metadata": {
        "id": "nZ7otU6ks8H3"
      }
    },
    {
      "cell_type": "code",
      "source": [
        "# Filtrando dados específicos\n",
        "print(\"Valores de 2023-01-03 a 2023-01-05:\\n\", serie_diaria[\"2023-01-03\":\"2023-01-05\"])\n",
        "\n",
        "# Selecionando com base em condições\n",
        "print(\"\\nValores maiores que 50:\\n\", serie_diaria[serie_diaria > 50])\n"
      ],
      "metadata": {
        "id": "Ob8Aut9ttC-q"
      },
      "execution_count": null,
      "outputs": []
    },
    {
      "cell_type": "markdown",
      "source": [
        "**4. Reamostragem e Alteração de Frequência**\n",
        "\n",
        "A reamostragem ajusta a frequência temporal dos dados (e.g., diário para mensal)."
      ],
      "metadata": {
        "id": "vCyRY6wUtI-0"
      }
    },
    {
      "cell_type": "code",
      "source": [
        "# Seria diaria\n",
        "print(\"serie diaria:\\n\", serie_diaria )\n",
        "\n",
        "# Reamostragem para frequência semanal\n",
        "reamostrado = serie_diaria.resample(\"W\")\n",
        "\n",
        "## media dos valores\n",
        "print(\"\\nSerie Semanal (media):\\n\", reamostrado.mean())\n",
        "\n",
        "## soma dos valores\n",
        "print(\"\\nSerie Semanal (soma):\\n\", reamostrado.sum())\n",
        "\n",
        "## maximo dos valores\n",
        "print(\"\\nSerie Semanal (max):\\n\", reamostrado.max())"
      ],
      "metadata": {
        "id": "T_-urGdGwTU1"
      },
      "execution_count": null,
      "outputs": []
    },
    {
      "cell_type": "markdown",
      "source": [
        "**5. Operações de Deslocamento**\n",
        "\n",
        "O deslocamento temporal é útil para calcular diferenças ou comparar valores passados."
      ],
      "metadata": {
        "id": "izvVdLOp6MTB"
      }
    },
    {
      "cell_type": "code",
      "source": [
        "serie = serie_diaria[\"2023-01-02\":\"2023-01-08\"]\n",
        "print(\"serie diaria:\\n\", serie)\n",
        "\n",
        "# Deslocando os valores para frente\n",
        "deslocado1 = serie.shift(1)\n",
        "print(\"\\nSérie Deslocada para Frente:\\n\", deslocado1)\n",
        "\n",
        "# Deslocando os valores para trás\n",
        "deslocado2 = serie.shift(-1)\n",
        "print(\"\\nSérie Deslocada para trás:\\n\", deslocado2)\n",
        "\n",
        "# Calculando diferenças\n",
        "diferencas = serie.diff()\n",
        "print(\"\\nDiferenças Entre Valores Consecutivos:\\n\", diferencas)"
      ],
      "metadata": {
        "id": "iXt3_36-6Z-j"
      },
      "execution_count": null,
      "outputs": []
    },
    {
      "cell_type": "markdown",
      "source": [
        "**6. Trabalhando com Timezones**\n",
        "\n",
        "O Pandas suporta fuso horário com `tz_localize` e `tz_convert`."
      ],
      "metadata": {
        "id": "DnhfpugbbPZA"
      }
    },
    {
      "cell_type": "code",
      "source": [
        "import numpy as np\n",
        "import pandas as pd\n",
        "\n",
        "# Criando uma série temporal horária (UTC)\n",
        "horas_utc = pd.date_range(\"2023-01-01 07:00\", \"2023-01-01 12:00\", freq=\"h\", tz=\"UTC\")\n",
        "serie_horaria_utc = pd.Series(np.random.randint(1, 100, len(horas_utc)), index=horas_utc)\n",
        "\n",
        "print(\"Série horária no timezone UTC:\")\n",
        "print(serie_horaria_utc)\n",
        "\n",
        "# Convertendo para o timezone América/São_Paulo\n",
        "serie_horaria_sao_paulo = serie_horaria_utc.tz_convert(\"America/Sao_Paulo\")\n",
        "print(\"\\nSérie horária convertida para América/São_Paulo:\")\n",
        "print(serie_horaria_sao_paulo)\n",
        "\n",
        "# Adicionando timezone a uma série sem fuso horário\n",
        "horas_sem_tz = pd.date_range(\"2023-01-01 07:00\", \"2023-01-01 12:00\", freq=\"h\")\n",
        "serie_sem_tz = pd.Series(np.random.randint(1, 100, len(horas_sem_tz)), index=horas_sem_tz)\n",
        "\n",
        "# Adicionando timezone à série sem fuso horário\n",
        "serie_com_tz = serie_sem_tz.tz_localize(\"America/New_York\")\n",
        "print(\"\\nSérie sem timezone adicionada ao timezone América/New_York:\")\n",
        "print(serie_com_tz)\n"
      ],
      "metadata": {
        "id": "czoZrRkivDKR"
      },
      "execution_count": null,
      "outputs": []
    },
    {
      "cell_type": "markdown",
      "source": [
        "Os fusos horários disponíveis podem ser acessados em [time-zones](https://en.wikipedia.org/wiki/List_of_tz_database_time_zones)."
      ],
      "metadata": {
        "id": "YaNiOCzj4yyy"
      }
    },
    {
      "cell_type": "markdown",
      "source": [
        "**7. Gráfico de séries temporais**\n",
        "\n",
        "No Pandas, é possível criar gráficos de séries temporais de forma simples utilizando o método `.plot()` integrado. Ele é ideal para representar visualmente dados temporais, como tendências ao longo do tempo. Para isso, você pode usar diretamente o DataFrame ou a Series, desde que tenham um índice temporal.\n"
      ],
      "metadata": {
        "id": "Kw7d4rBdfqOK"
      }
    },
    {
      "cell_type": "code",
      "source": [
        "import pandas as pd\n",
        "import numpy as np\n",
        "\n",
        "# Gerar uma série temporal horaria\n",
        "datas = pd.date_range(\"2023-01-01\", \"2023-01-5\", freq=\"h\")\n",
        "valores = np.random.randint(50, 100, len(datas))\n",
        "serie_temporal = pd.Series(valores, index=datas)\n",
        "\n",
        "# Criar o gráfico\n",
        "serie_temporal.plot(title=\"Série Temporal\", xlabel=\"Data\", ylabel=\"Valor\",\n",
        "                    figsize=(6, 3))"
      ],
      "metadata": {
        "id": "M9PgA2dZgAB3"
      },
      "execution_count": null,
      "outputs": []
    },
    {
      "cell_type": "code",
      "source": [
        "# Gera um DataFrame com múltiplas séries temporais\n",
        "df = pd.DataFrame({\n",
        "    \"Produto A\": np.random.randint(50, 100, len(datas)),\n",
        "    \"Produto B\": np.random.randint(60, 120, len(datas)),\n",
        "    \"Produto C\": np.random.randint(30, 90, len(datas)),\n",
        "}, index=datas)\n",
        "\n",
        "# Gera o gráfico\n",
        "df.plot(title=\"Comparação de Produtos\", xlabel=\"Data\", ylabel=\"Vendas\",\n",
        "        figsize=(7, 4))\n"
      ],
      "metadata": {
        "id": "zfo6aOKChHXb"
      },
      "execution_count": null,
      "outputs": []
    },
    {
      "cell_type": "markdown",
      "source": [
        "A biblioteca `matplotlib` pode ser utilizada para personalizar os gráficos. Será visto a frente."
      ],
      "metadata": {
        "id": "33uuakLLiaGS"
      }
    },
    {
      "cell_type": "markdown",
      "source": [
        "### Exercício 5\n",
        "\n",
        "Considere o seguinte código:\n",
        "\n",
        "```python\n",
        "import pandas as pd\n",
        "import numpy as np\n",
        "\n",
        "# Série temporal diária para janeiro de 2023\n",
        "dias = pd.date_range(start=\"2023-01-01\", end=\"2023-01-31\", freq=\"D\")\n",
        "serie = pd.Series(np.random.randint(10, 100, len(dias_janeiro)), index=dias)\n",
        "print(\"Série Temporal:\\n\", serie)\n",
        "```\n",
        "\n",
        "Então para o objeto `serie`:\n",
        "\n",
        "1. Construa uma série semanal tomando os valores máximos de cada semana.\n",
        "\n",
        "2. Construa uma série semanal tomando os valores médios de cada semana.\n",
        "\n",
        "3. Inclua o fuso horário \"America/Sao_Paulo\".\n",
        "\n",
        "4. Plote o gráfico."
      ],
      "metadata": {
        "id": "UZiW85H9jR1N"
      }
    },
    {
      "cell_type": "markdown",
      "source": [
        "## Dados categorizados"
      ],
      "metadata": {
        "id": "cCQ4zMPSUizA"
      }
    },
    {
      "cell_type": "markdown",
      "source": [
        "Os dados categorizados são úteis para representar variáveis que têm um número fixo e limitado de categorias. O *Pandas* oferece suporte para o tipo de dado `category`, permitindo economizar memória e melhorar o desempenho em operações com dados categóricos.\n",
        "\n",
        "Obs: `category` em *Pandas* é o equivalente ao `factor` na linguagem R.\n",
        "\n",
        "Por que usar dados categorizados?\n",
        "\n",
        "* Eficiência de memória: Categorias são armazenadas como índices inteiros internamente, reduzindo o uso de memória.\n",
        "* Desempenho: Operações como comparação e agrupamento são mais rápidas.\n",
        "* Validação: Você pode limitar os valores aceitos em uma coluna a um conjunto de categorias fixas.\n",
        "* **Modelagem**: Modelos de regressão não lidam diretamente com variáveis categóricas. Elas precisam ser convertidas em uma representação numérica, como **one-hot encoding** (cada categoria vira uma coluna binária) ou codificação **ordinal** (são tratadas como números).  \n"
      ],
      "metadata": {
        "id": "lJHqK0SJ5Qug"
      }
    },
    {
      "cell_type": "markdown",
      "source": [
        "**Criando Dados Categorizados**"
      ],
      "metadata": {
        "id": "YRS_yQYzzs4E"
      }
    },
    {
      "cell_type": "code",
      "source": [
        "import pandas as pd\n",
        "import numpy as np\n",
        "\n",
        "## A partir de uma lista\n",
        "categoricas = pd.Series([\"Alto\", \"Médio\", \"Baixo\", \"Médio\"], dtype=\"category\")\n",
        "print(\"Série categórica:\")\n",
        "print(categoricas)  # Aqui o Python não sabe qual é a ordem\n",
        "\n",
        "# Definindo uma ordem explícita\n",
        "categoricas2 = categoricas.cat.set_categories([\"Baixo\", \"Médio\", \"Alto\"],\n",
        "                                             ordered=True)\n",
        "print(\"\\nSérie categórica ordenada:\")\n",
        "print(categoricas2)\n"
      ],
      "metadata": {
        "id": "JvG6W2t_zdyA"
      },
      "execution_count": null,
      "outputs": []
    },
    {
      "cell_type": "markdown",
      "source": [
        "Segmentando variáveis utilizando `.cut`"
      ],
      "metadata": {
        "id": "Kaaj05mQBnmz"
      }
    },
    {
      "cell_type": "code",
      "source": [
        "df = pd.DataFrame({\n",
        "    \"Nome\": [\"Ana\", \"Bruno\", \"Carlos\", \"Diana\", \"Eduardo\"],\n",
        "    \"Gênero\": [\"Feminino\", \"Masculino\", \"Masculino\", \"Feminino\", \"Masculino\"],\n",
        "    \"Notas\": [9.5, 5.3, 0.1, 6.1, 7.7]\n",
        "})\n",
        "\n",
        "# Aplicando a função .cut para criar a coluna menção\n",
        "cortes = [0.0, 3.0, 5, 7, 9, 10]\n",
        "classes = [\"II\",\"MI\",\"MM\",\"MS\",\"SS\"]\n",
        "df['Menção'] = pd.cut(df['Notas'], bins=cortes, labels=classes)\n",
        "\n",
        "# Transformando Menção em categorica\n",
        "df[\"Menção\"] = df[\"Menção\"].astype(\"category\")\n",
        "\n",
        "# Transformando Menção em categorica ordinal\n",
        "df.Menção = df.Menção.cat.set_categories([\"SR\",\"II\",\"MI\",\"MM\",\"MS\",\"SS\"],\n",
        "                                               ordered = True)\n",
        "print(\"df:\\n\", df)"
      ],
      "metadata": {
        "id": "oeJyFc5YB9Vg"
      },
      "execution_count": null,
      "outputs": []
    },
    {
      "cell_type": "markdown",
      "source": [
        "Renomeando as categorias para nomes com mais significado:"
      ],
      "metadata": {
        "id": "efeWjtSs67Vq"
      }
    },
    {
      "cell_type": "code",
      "source": [
        "from typing_extensions import runtime\n",
        "print(\"df:\\n\", df)\n",
        "\n",
        "new_categories = [\"péssimo\", \"muito ruim\", \"ruim\", \"meia boca\", \"aceitável\", \"bom\"]\n",
        "# SR -> péssimo\n",
        "# II -> muito ruim\n",
        "# MI -> ruim\n",
        "# ...\n",
        "\n",
        "df[\"Menção\"] = df[\"Menção\"].cat.rename_categories(new_categories)\n",
        "\n",
        "print(\"\\ndf:\\n\", df)"
      ],
      "metadata": {
        "id": "THG1pXmy7rx4"
      },
      "execution_count": null,
      "outputs": []
    },
    {
      "cell_type": "markdown",
      "source": [
        "A  ordenação nas categorias é por classe, não alfabética:"
      ],
      "metadata": {
        "id": "81_7uUtW8e5f"
      }
    },
    {
      "cell_type": "code",
      "source": [
        "df.sort_values(by=\"Menção\")"
      ],
      "metadata": {
        "id": "WxBpRGWq8zPp"
      },
      "execution_count": null,
      "outputs": []
    },
    {
      "cell_type": "markdown",
      "source": [
        "Agrupamento de variáveis categorizadas com `observed=False` também mostram as categorias vazias:"
      ],
      "metadata": {
        "id": "m6feZ8OW8z1v"
      }
    },
    {
      "cell_type": "code",
      "source": [
        "df.groupby(\"Menção\", observed=False).size()"
      ],
      "metadata": {
        "id": "0O6hdHpK9RxH"
      },
      "execution_count": null,
      "outputs": []
    },
    {
      "cell_type": "markdown",
      "source": [
        "**Codificação one-hot**\n",
        "\n",
        "Neste exemplo, vamos simular que estamos preparando a variável \"Gênero\" para ser utilizada em um modelo de regressão. Por conta disso, vamos transformar ela em dummy:"
      ],
      "metadata": {
        "id": "MvucXDs-94Sm"
      }
    },
    {
      "cell_type": "code",
      "source": [
        "## Dummies da variável \"Gênero\"\n",
        "df_dummies = pd.get_dummies(df, columns=[\"Gênero\"])\n",
        "print( df_dummies )"
      ],
      "metadata": {
        "id": "u_iVzeta9kgC"
      },
      "execution_count": null,
      "outputs": []
    },
    {
      "cell_type": "markdown",
      "source": [
        "### Exercício 6\n",
        "\n",
        "Considere o seguinte código:\n",
        "\n",
        "```python\n",
        "import pandas as pd\n",
        "import numpy as np\n",
        "\n",
        "# Criando um DataFrame de exemplo\n",
        "dados = {\n",
        "    \"Produto\": [\"Notebook\", \"Smartphone\", \"Tablet\", \"Notebook\", \"Smartphone\", \"Tablet\", \"Notebook\", \"Smartphone\", \"Tablet\", \"Notebook\"],\n",
        "    \"Loja\": [\"Loja A\", \"Loja B\", \"Loja C\", \"Loja A\", \"Loja B\", \"Loja C\", \"Loja A\", \"Loja B\", \"Loja C\", \"Loja A\"],\n",
        "    \"Vendas\": [1500, 2000, 1000, 1800, 2200, 1200, 1700, 2100, 1300, 1600],\n",
        "    \"Ano\": [2023, 2023, 2023, 2023, 2023, 2023, 2023, 2023, 2023, 2023],\n",
        "    \"Categoria\": [\"Eletrônicos\", \"Eletrônicos\", \"Eletrônicos\", \"Eletrônicos\", \"Eletrônicos\", \"Eletrônicos\", \"Eletrônicos\", \"Eletrônicos\", \"Eletrônicos\", \"Eletrônicos\"],\n",
        "}\n",
        "\n",
        "df = pd.DataFrame(dados)\n",
        "\n",
        "print(\"Conjunto de Dados de Vendas:\")\n",
        "print(df)\n",
        "\n",
        "```\n",
        "\n",
        "Então para o objeto `serie`:\n",
        "\n",
        "1. Converta as colunas \"Loja\" e \"Produto\" para categóricas.\n",
        "\n",
        "2. Faça a coluna \"Produto\" ter a seguinte ordem: \"Tablet\", \"Smartphone\", \"Notebook\".\n",
        "\n",
        "3. Calcule a quantidade de ocorrências de cada loja na coluna \"Loja\" usando `value_counts()`.\n",
        "\n",
        "4. Crie uma nova coluna categórica ordinal chamada `Categoria_Vendas`, onde será categorizado para \"Alto\", \"Médio\" ou \"Baixo\", com base nos seguintes critérios:\n",
        "  * \"Alto\": Vendas > 2000\n",
        "  * \"Médio\": 1500 <= Vendas <= 2000\n",
        "  * \"Baixo\": Vendas < 1500.\n",
        "\n",
        "5. Transforme em dummies as variáveis `Produto` e  `Categoria_Vendas`.    "
      ],
      "metadata": {
        "id": "Haw0r4IX_jRu"
      }
    },
    {
      "cell_type": "markdown",
      "source": [
        "## Importando e exportando dados"
      ],
      "metadata": {
        "id": "g7hv1IbvU66m"
      }
    },
    {
      "cell_type": "markdown",
      "source": [
        "### Valores separados por vírgula (CSV)"
      ],
      "metadata": {
        "id": "nh5jmihRU_zW"
      }
    },
    {
      "cell_type": "markdown",
      "source": [
        "Para escrever um arquivo CSV (*valores separados por vírgula*) use `DataFrame.to_csv()`:"
      ],
      "metadata": {
        "id": "ZyV_WSno-P3v"
      }
    },
    {
      "cell_type": "code",
      "source": [
        "df = pd.DataFrame(np.random.randint(0, 5, (10, 5)))\n",
        "df.to_csv(\"foo.csv\")"
      ],
      "metadata": {
        "id": "dhne78MJ_FIQ"
      },
      "execution_count": null,
      "outputs": []
    },
    {
      "cell_type": "markdown",
      "source": [
        "Para ler o arquivo CSV use `DataFrame.read_csv()`:"
      ],
      "metadata": {
        "id": "Gx2VNrdJ_Gkf"
      }
    },
    {
      "cell_type": "code",
      "source": [
        "pd.read_csv(\"foo.csv\")"
      ],
      "metadata": {
        "id": "xIvflSzT_ZSo"
      },
      "execution_count": null,
      "outputs": []
    },
    {
      "cell_type": "markdown",
      "source": [
        "### Excel"
      ],
      "metadata": {
        "id": "v-At6-FxVQFO"
      }
    },
    {
      "cell_type": "markdown",
      "source": [
        "Para escrever um arquivo Excel use `DataFrame.to_excel()`:"
      ],
      "metadata": {
        "id": "yXCw_f-0BFou"
      }
    },
    {
      "cell_type": "code",
      "source": [
        "df.to_excel(\"foo.xlsx\", sheet_name=\"Sheet1\")"
      ],
      "metadata": {
        "id": "zpR8CVpRBsUo"
      },
      "execution_count": null,
      "outputs": []
    },
    {
      "cell_type": "markdown",
      "source": [
        "Para ler um arquivo Excel use `DataFrame.read_excel()`:"
      ],
      "metadata": {
        "id": "aPucD9hEBs9f"
      }
    },
    {
      "cell_type": "code",
      "source": [
        "pd.read_excel(\"foo.xlsx\", \"Sheet1\", index_col=None)"
      ],
      "metadata": {
        "id": "9_97oF5-CGQv"
      },
      "execution_count": null,
      "outputs": []
    }
  ]
}